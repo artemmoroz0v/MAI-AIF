{
  "cells": [
    {
      "cell_type": "markdown",
      "metadata": {},
      "source": [
        "# Лабораторная работа №2\n",
        "\n",
        "# Фундаментальные концепции искусственного интеллекта\n",
        "\n",
        "Студент **Морозов Артем Борисович**\n",
        "\n",
        "Группа **М8О-109СВ-24**"
      ]
    },
    {
      "cell_type": "markdown",
      "metadata": {},
      "source": [
        "Глобальная оптимизация и метаэврестические алгоритмы\n",
        "- В Pygmo запрогроммировать две своих тестовых функции и найти их оптимум 3 разными алгоритмами доступными в библиотеке и получить таблицу сравнения"
      ]
    },
    {
      "cell_type": "code",
      "execution_count": 12,
      "metadata": {
        "id": "5lwhhkB2_d5j"
      },
      "outputs": [],
      "source": [
        "import pygmo as pg\n",
        "import numpy as np\n",
        "import pandas as pd\n",
        "from tabulate import tabulate\n",
        "\n",
        "class TestFunction1:\n",
        "    def fitness(self, x):\n",
        "        return [x[0]**2 + x[1]**2]  # Простая квадратичная функция\n",
        "\n",
        "    def get_bounds(self):\n",
        "        return ([-10, -10], [10, 10])\n",
        "\n",
        "class TestFunction2:\n",
        "    def fitness(self, x):\n",
        "        return [np.sin(x[0]) * np.cos(x[1])]  # Синус-косинус функция\n",
        "\n",
        "    def get_bounds(self):\n",
        "        return ([-np.pi, -np.pi], [np.pi, np.pi])"
      ]
    },
    {
      "cell_type": "code",
      "execution_count": 13,
      "metadata": {
        "id": "uL5avHjl_qLp"
      },
      "outputs": [],
      "source": [
        "problem1 = pg.problem(TestFunction1())\n",
        "problem2 = pg.problem(TestFunction2())"
      ]
    },
    {
      "cell_type": "code",
      "execution_count": 14,
      "metadata": {
        "id": "bD1FZ5q1_uC5"
      },
      "outputs": [],
      "source": [
        "algorithms = [\n",
        "    pg.algorithm(pg.de(gen=100)),  # Дифференциальная эволюция\n",
        "    pg.algorithm(pg.sade(gen=100)),  # Самоадаптирующаяся дифференциальная эволюция\n",
        "    pg.algorithm(pg.cmaes(gen=100)),  # CMA-ES\n",
        "]"
      ]
    },
    {
      "cell_type": "code",
      "execution_count": 15,
      "metadata": {
        "id": "N12f3w1U_zj-"
      },
      "outputs": [],
      "source": [
        "# Функция для проведения оптимизации и сбора результатов\n",
        "def optimize_and_compare(problem, algorithms):\n",
        "    results = []\n",
        "    for alg in algorithms:\n",
        "        algo_name = alg.get_name()\n",
        "        opt_result = []\n",
        "        for i in range(3):\n",
        "            pop = pg.population(problem, size=20)\n",
        "            algo = alg\n",
        "            pop = algo.evolve(pop)\n",
        "            f_val = pop.champion_f[0]\n",
        "            opt_result.append(f_val)\n",
        "        results.append({\"Algorithm\": algo_name, \"Min Value\": np.mean(opt_result), \"Std Dev\": np.std(opt_result)})\n",
        "    return pd.DataFrame(results)"
      ]
    },
    {
      "cell_type": "code",
      "execution_count": 16,
      "metadata": {
        "id": "mH0GIpDd_2ps"
      },
      "outputs": [],
      "source": [
        "results1 = optimize_and_compare(problem1, algorithms)\n",
        "results2 = optimize_and_compare(problem2, algorithms)"
      ]
    },
    {
      "cell_type": "code",
      "execution_count": 17,
      "metadata": {
        "colab": {
          "base_uri": "https://localhost:8080/"
        },
        "id": "m58-jmCEAm74",
        "outputId": "28d2dfeb-da89-49ca-9b4b-dfe7e92e5617"
      },
      "outputs": [
        {
          "name": "stdout",
          "output_type": "stream",
          "text": [
            "Results for Test Function 1:\n",
            "+---+------------------------------------------------------------+------------------------+------------------------+\n",
            "|   |                         Algorithm                          |       Min Value        |        Std Dev         |\n",
            "+---+------------------------------------------------------------+------------------------+------------------------+\n",
            "| 0 |                 DE: Differential Evolution                 | 4.763459311999726e-09  | 3.6157472099462025e-09 |\n",
            "| 1 |         saDE: Self-adaptive Differential Evolution         | 1.1484370529829165e-08 | 8.084029950003999e-09  |\n",
            "| 2 | CMA-ES: Covariance Matrix Adaptation Evolutionary Strategy | 2.122771415479817e-09  |  8.1754920392558e-10   |\n",
            "+---+------------------------------------------------------------+------------------------+------------------------+\n",
            "\n",
            "Results for Test Function 2:\n",
            "+---+------------------------------------------------------------+---------------------+------------------------+\n",
            "|   |                         Algorithm                          |      Min Value      |        Std Dev         |\n",
            "+---+------------------------------------------------------------+---------------------+------------------------+\n",
            "| 0 |                 DE: Differential Evolution                 | -0.9999999899422991 | 5.858556205885435e-09  |\n",
            "| 1 |         saDE: Self-adaptive Differential Evolution         | -0.9999999900071469 | 3.523092055661342e-09  |\n",
            "| 2 | CMA-ES: Covariance Matrix Adaptation Evolutionary Strategy | -0.9999999902476472 | 5.1217509991759556e-09 |\n",
            "+---+------------------------------------------------------------+---------------------+------------------------+\n"
          ]
        }
      ],
      "source": [
        "print(\"Results for Test Function 1:\")\n",
        "print(tabulate(results1, headers=\"keys\", tablefmt=\"pretty\"))\n",
        "\n",
        "print(\"\\nResults for Test Function 2:\")\n",
        "print(tabulate(results2, headers=\"keys\", tablefmt=\"pretty\"))"
      ]
    }
  ],
  "metadata": {
    "colab": {
      "provenance": []
    },
    "kernelspec": {
      "display_name": "Python 3",
      "name": "python3"
    },
    "language_info": {
      "name": "python",
      "version": "3.8.10"
    }
  },
  "nbformat": 4,
  "nbformat_minor": 0
}
