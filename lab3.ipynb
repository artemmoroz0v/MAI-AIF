{
 "cells": [
  {
   "cell_type": "markdown",
   "metadata": {},
   "source": [
    "# Лабораторная работа №3\n",
    "\n",
    "# Фундаментальные концепции искусственного интеллекта\n",
    "\n",
    "Студент **Морозов Артем Борисович**\n",
    "\n",
    "Группа **М8О-109СВ-24**"
   ]
  },
  {
   "cell_type": "markdown",
   "metadata": {},
   "source": [
    "3. Оптимизация гиперпараметров \n",
    "     - С помощью [optuna]() взять пример, аналогичный третьему туториалу документации, используя sklearn и с другим датасетом, выбрать другие  алгоритмы классификации \n",
    "        и кластеризации не из туториала  и визуализировать графики для полученного процесса\n",
    "        - В качестве других моделей подойдут любые алгоритмы классификации и регрессии из sklearn которые не использовались в туториале\n",
    "     - Использовать 2 разных семплера и прунера\n",
    "     - При процессе оптимизации гиперпараметров использовать общую память через postgreSQL\n",
    "     - В качестве отчёта выступают: исходный код, инструкция запуска реляционной БД. "
   ]
  },
  {
   "cell_type": "code",
   "execution_count": 15,
   "metadata": {},
   "outputs": [],
   "source": [
    "import optuna\n",
    "import pandas as pd\n",
    "from sklearn.datasets import load_iris\n",
    "from sklearn.model_selection import train_test_split, cross_val_score\n",
    "from sklearn.svm import SVC\n",
    "from sklearn.ensemble import RandomForestClassifier\n",
    "from sklearn.cluster import KMeans, DBSCAN\n",
    "from sklearn.metrics import silhouette_score"
   ]
  },
  {
   "cell_type": "code",
   "execution_count": 4,
   "metadata": {},
   "outputs": [],
   "source": [
    "iris = load_iris()\n",
    "X, y = iris.data, iris.target\n",
    "X_train, X_test, y_train, y_test = train_test_split(X, y, test_size=0.2, random_state=42)"
   ]
  },
  {
   "cell_type": "code",
   "execution_count": 17,
   "metadata": {},
   "outputs": [
    {
     "name": "stderr",
     "output_type": "stream",
     "text": [
      "[I 2024-12-22 23:52:43,996] A new study created in memory with name: no-name-463fd641-5775-4d5a-b914-7dd041494323\n",
      "[I 2024-12-22 23:52:43,998] A new study created in memory with name: no-name-7a38fb35-39ef-43aa-a2fc-d67d42e6f465\n"
     ]
    }
   ],
   "source": [
    "study_classification = optuna.create_study(direction=\"maximize\", sampler=optuna.samplers.TPESampler(), pruner=optuna.pruners.HyperbandPruner())\n",
    "study_clustering = optuna.create_study(direction=\"maximize\", sampler=optuna.samplers.RandomSampler(), pruner=optuna.pruners.MedianPruner())"
   ]
  },
  {
   "cell_type": "code",
   "execution_count": 18,
   "metadata": {},
   "outputs": [],
   "source": [
    "def objective_classification(trial):\n",
    "    classifier_name = trial.suggest_categorical(\"classifier\", [\"SVC\", \"RandomForest\"])\n",
    "\n",
    "    if classifier_name == \"SVC\":\n",
    "        svc_c = trial.suggest_loguniform(\"svc_c\", 1e-3, 1e3)\n",
    "        kernel = trial.suggest_categorical(\"kernel\", [\"linear\", \"rbf\"])\n",
    "        classifier = SVC(C=svc_c, kernel=kernel, random_state=42)\n",
    "\n",
    "    elif classifier_name == \"RandomForest\":\n",
    "        n_estimators = trial.suggest_int(\"n_estimators\", 10, 100)\n",
    "        max_depth = trial.suggest_int(\"max_depth\", 2, 20)\n",
    "        classifier = RandomForestClassifier(n_estimators=n_estimators, max_depth=max_depth, random_state=42)\n",
    "\n",
    "    score = cross_val_score(classifier, X_train, y_train, cv=3, scoring=\"accuracy\").mean()\n",
    "    return score"
   ]
  },
  {
   "cell_type": "code",
   "execution_count": 19,
   "metadata": {},
   "outputs": [],
   "source": [
    "def objective_clustering(trial):\n",
    "    clustering_name = trial.suggest_categorical(\"clustering\", [\"KMeans\", \"DBSCAN\"])\n",
    "\n",
    "    if clustering_name == \"KMeans\":\n",
    "        n_clusters = trial.suggest_int(\"n_clusters\", 2, 10)\n",
    "        model = KMeans(n_clusters=n_clusters, random_state=42)\n",
    "    elif clustering_name == \"DBSCAN\":\n",
    "        eps = trial.suggest_loguniform(\"eps\", 1e-3, 1.0)\n",
    "        min_samples = trial.suggest_int(\"min_samples\", 2, 10)\n",
    "        model = DBSCAN(eps=eps, min_samples=min_samples)\n",
    "\n",
    "    labels = model.fit_predict(X)\n",
    "    score = silhouette_score(X, labels) if len(set(labels)) > 1 else -1\n",
    "    return score"
   ]
  },
  {
   "cell_type": "code",
   "execution_count": null,
   "metadata": {},
   "outputs": [
    {
     "name": "stderr",
     "output_type": "stream",
     "text": [
      "C:\\Users\\artem\\AppData\\Local\\Temp\\ipykernel_8264\\760220596.py:6: FutureWarning: suggest_loguniform has been deprecated in v3.0.0. This feature will be removed in v6.0.0. See https://github.com/optuna/optuna/releases/tag/v3.0.0. Use suggest_float(..., log=True) instead.\n",
      "  svc_c = trial.suggest_loguniform(\"svc_c\", 1e-3, 1e3)\n",
      "[I 2024-12-22 23:53:06,712] Trial 0 finished with value: 0.9499999999999998 and parameters: {'classifier': 'SVC', 'svc_c': 0.02080195393307515, 'kernel': 'linear'}. Best is trial 0 with value: 0.9499999999999998.\n",
      "[I 2024-12-22 23:53:07,328] Trial 1 finished with value: 0.9583333333333334 and parameters: {'classifier': 'RandomForest', 'n_estimators': 71, 'max_depth': 12}. Best is trial 1 with value: 0.9583333333333334.\n",
      "[I 2024-12-22 23:53:07,670] Trial 2 finished with value: 0.9583333333333334 and parameters: {'classifier': 'RandomForest', 'n_estimators': 53, 'max_depth': 20}. Best is trial 1 with value: 0.9583333333333334.\n",
      "C:\\Users\\artem\\AppData\\Local\\Temp\\ipykernel_8264\\760220596.py:6: FutureWarning: suggest_loguniform has been deprecated in v3.0.0. This feature will be removed in v6.0.0. See https://github.com/optuna/optuna/releases/tag/v3.0.0. Use suggest_float(..., log=True) instead.\n",
      "  svc_c = trial.suggest_loguniform(\"svc_c\", 1e-3, 1e3)\n",
      "[I 2024-12-22 23:53:07,687] Trial 3 finished with value: 0.5583333333333333 and parameters: {'classifier': 'SVC', 'svc_c': 0.020476772100458288, 'kernel': 'rbf'}. Best is trial 1 with value: 0.9583333333333334.\n",
      "C:\\Users\\artem\\AppData\\Local\\Temp\\ipykernel_8264\\760220596.py:6: FutureWarning: suggest_loguniform has been deprecated in v3.0.0. This feature will be removed in v6.0.0. See https://github.com/optuna/optuna/releases/tag/v3.0.0. Use suggest_float(..., log=True) instead.\n",
      "  svc_c = trial.suggest_loguniform(\"svc_c\", 1e-3, 1e3)\n",
      "[I 2024-12-22 23:53:07,706] Trial 4 finished with value: 0.6750000000000002 and parameters: {'classifier': 'SVC', 'svc_c': 0.005379941486496999, 'kernel': 'linear'}. Best is trial 1 with value: 0.9583333333333334.\n",
      "[I 2024-12-22 23:53:07,824] Trial 5 finished with value: 0.9583333333333334 and parameters: {'classifier': 'RandomForest', 'n_estimators': 12, 'max_depth': 8}. Best is trial 1 with value: 0.9583333333333334.\n",
      "C:\\Users\\artem\\AppData\\Local\\Temp\\ipykernel_8264\\760220596.py:6: FutureWarning: suggest_loguniform has been deprecated in v3.0.0. This feature will be removed in v6.0.0. See https://github.com/optuna/optuna/releases/tag/v3.0.0. Use suggest_float(..., log=True) instead.\n",
      "  svc_c = trial.suggest_loguniform(\"svc_c\", 1e-3, 1e3)\n",
      "[I 2024-12-22 23:53:07,855] Trial 6 finished with value: 0.9416666666666668 and parameters: {'classifier': 'SVC', 'svc_c': 11.488305534071246, 'kernel': 'rbf'}. Best is trial 1 with value: 0.9583333333333334.\n",
      "C:\\Users\\artem\\AppData\\Local\\Temp\\ipykernel_8264\\760220596.py:6: FutureWarning: suggest_loguniform has been deprecated in v3.0.0. This feature will be removed in v6.0.0. See https://github.com/optuna/optuna/releases/tag/v3.0.0. Use suggest_float(..., log=True) instead.\n",
      "  svc_c = trial.suggest_loguniform(\"svc_c\", 1e-3, 1e3)\n",
      "[I 2024-12-22 23:53:07,900] Trial 7 finished with value: 0.5583333333333333 and parameters: {'classifier': 'SVC', 'svc_c': 0.007977951323218102, 'kernel': 'rbf'}. Best is trial 1 with value: 0.9583333333333334.\n",
      "C:\\Users\\artem\\AppData\\Local\\Temp\\ipykernel_8264\\760220596.py:6: FutureWarning: suggest_loguniform has been deprecated in v3.0.0. This feature will be removed in v6.0.0. See https://github.com/optuna/optuna/releases/tag/v3.0.0. Use suggest_float(..., log=True) instead.\n",
      "  svc_c = trial.suggest_loguniform(\"svc_c\", 1e-3, 1e3)\n",
      "[I 2024-12-22 23:53:07,938] Trial 8 finished with value: 0.9500000000000001 and parameters: {'classifier': 'SVC', 'svc_c': 181.4279755516864, 'kernel': 'rbf'}. Best is trial 1 with value: 0.9583333333333334.\n",
      "[I 2024-12-22 23:53:08,641] Trial 9 finished with value: 0.9583333333333334 and parameters: {'classifier': 'RandomForest', 'n_estimators': 86, 'max_depth': 13}. Best is trial 1 with value: 0.9583333333333334.\n",
      "[I 2024-12-22 23:53:09,139] Trial 10 finished with value: 0.9500000000000001 and parameters: {'classifier': 'RandomForest', 'n_estimators': 76, 'max_depth': 3}. Best is trial 1 with value: 0.9583333333333334.\n",
      "[I 2024-12-22 23:53:09,444] Trial 11 finished with value: 0.9583333333333334 and parameters: {'classifier': 'RandomForest', 'n_estimators': 48, 'max_depth': 20}. Best is trial 1 with value: 0.9583333333333334.\n",
      "[I 2024-12-22 23:53:09,801] Trial 12 finished with value: 0.9583333333333334 and parameters: {'classifier': 'RandomForest', 'n_estimators': 52, 'max_depth': 20}. Best is trial 1 with value: 0.9583333333333334.\n",
      "[I 2024-12-22 23:53:10,163] Trial 13 finished with value: 0.9583333333333334 and parameters: {'classifier': 'RandomForest', 'n_estimators': 64, 'max_depth': 14}. Best is trial 1 with value: 0.9583333333333334.\n",
      "[I 2024-12-22 23:53:10,366] Trial 14 finished with value: 0.9500000000000001 and parameters: {'classifier': 'RandomForest', 'n_estimators': 33, 'max_depth': 16}. Best is trial 1 with value: 0.9583333333333334.\n",
      "[I 2024-12-22 23:53:10,917] Trial 15 finished with value: 0.9583333333333334 and parameters: {'classifier': 'RandomForest', 'n_estimators': 92, 'max_depth': 8}. Best is trial 1 with value: 0.9583333333333334.\n",
      "[I 2024-12-22 23:53:11,282] Trial 16 finished with value: 0.9583333333333334 and parameters: {'classifier': 'RandomForest', 'n_estimators': 65, 'max_depth': 9}. Best is trial 1 with value: 0.9583333333333334.\n",
      "[I 2024-12-22 23:53:11,595] Trial 17 finished with value: 0.9500000000000001 and parameters: {'classifier': 'RandomForest', 'n_estimators': 36, 'max_depth': 17}. Best is trial 1 with value: 0.9583333333333334.\n",
      "[I 2024-12-22 23:53:11,947] Trial 18 finished with value: 0.9583333333333334 and parameters: {'classifier': 'RandomForest', 'n_estimators': 72, 'max_depth': 11}. Best is trial 1 with value: 0.9583333333333334.\n",
      "[I 2024-12-22 23:53:12,157] Trial 19 finished with value: 0.9500000000000001 and parameters: {'classifier': 'RandomForest', 'n_estimators': 40, 'max_depth': 6}. Best is trial 1 with value: 0.9583333333333334.\n",
      "[I 2024-12-22 23:53:12,648] Trial 20 finished with value: 0.9416666666666668 and parameters: {'classifier': 'RandomForest', 'n_estimators': 100, 'max_depth': 2}. Best is trial 1 with value: 0.9583333333333334.\n",
      "[I 2024-12-22 23:53:12,739] Trial 21 finished with value: 0.9500000000000001 and parameters: {'classifier': 'RandomForest', 'n_estimators': 15, 'max_depth': 6}. Best is trial 1 with value: 0.9583333333333334.\n",
      "[I 2024-12-22 23:53:12,838] Trial 22 finished with value: 0.9500000000000001 and parameters: {'classifier': 'RandomForest', 'n_estimators': 15, 'max_depth': 11}. Best is trial 1 with value: 0.9583333333333334.\n",
      "[I 2024-12-22 23:53:13,037] Trial 23 finished with value: 0.9583333333333334 and parameters: {'classifier': 'RandomForest', 'n_estimators': 25, 'max_depth': 17}. Best is trial 1 with value: 0.9583333333333334.\n",
      "[I 2024-12-22 23:53:13,354] Trial 24 finished with value: 0.9583333333333334 and parameters: {'classifier': 'RandomForest', 'n_estimators': 58, 'max_depth': 8}. Best is trial 1 with value: 0.9583333333333334.\n",
      "[I 2024-12-22 23:53:13,779] Trial 25 finished with value: 0.9583333333333334 and parameters: {'classifier': 'RandomForest', 'n_estimators': 80, 'max_depth': 5}. Best is trial 1 with value: 0.9583333333333334.\n",
      "[I 2024-12-22 23:53:13,920] Trial 26 finished with value: 0.9583333333333334 and parameters: {'classifier': 'RandomForest', 'n_estimators': 24, 'max_depth': 14}. Best is trial 1 with value: 0.9583333333333334.\n",
      "[I 2024-12-22 23:53:14,150] Trial 27 finished with value: 0.9500000000000001 and parameters: {'classifier': 'RandomForest', 'n_estimators': 44, 'max_depth': 10}. Best is trial 1 with value: 0.9583333333333334.\n",
      "[I 2024-12-22 23:53:14,483] Trial 28 finished with value: 0.9583333333333334 and parameters: {'classifier': 'RandomForest', 'n_estimators': 59, 'max_depth': 13}. Best is trial 1 with value: 0.9583333333333334.\n",
      "C:\\Users\\artem\\AppData\\Local\\Temp\\ipykernel_8264\\760220596.py:6: FutureWarning: suggest_loguniform has been deprecated in v3.0.0. This feature will be removed in v6.0.0. See https://github.com/optuna/optuna/releases/tag/v3.0.0. Use suggest_float(..., log=True) instead.\n",
      "  svc_c = trial.suggest_loguniform(\"svc_c\", 1e-3, 1e3)\n",
      "[I 2024-12-22 23:53:14,499] Trial 29 finished with value: 0.975 and parameters: {'classifier': 'SVC', 'svc_c': 0.9890210625560284, 'kernel': 'linear'}. Best is trial 29 with value: 0.975.\n",
      "C:\\Users\\artem\\AppData\\Local\\Temp\\ipykernel_8264\\760220596.py:6: FutureWarning: suggest_loguniform has been deprecated in v3.0.0. This feature will be removed in v6.0.0. See https://github.com/optuna/optuna/releases/tag/v3.0.0. Use suggest_float(..., log=True) instead.\n",
      "  svc_c = trial.suggest_loguniform(\"svc_c\", 1e-3, 1e3)\n",
      "[I 2024-12-22 23:53:14,520] Trial 30 finished with value: 0.975 and parameters: {'classifier': 'SVC', 'svc_c': 1.0155606439670555, 'kernel': 'linear'}. Best is trial 29 with value: 0.975.\n",
      "C:\\Users\\artem\\AppData\\Local\\Temp\\ipykernel_8264\\760220596.py:6: FutureWarning: suggest_loguniform has been deprecated in v3.0.0. This feature will be removed in v6.0.0. See https://github.com/optuna/optuna/releases/tag/v3.0.0. Use suggest_float(..., log=True) instead.\n",
      "  svc_c = trial.suggest_loguniform(\"svc_c\", 1e-3, 1e3)\n",
      "[I 2024-12-22 23:53:14,548] Trial 31 finished with value: 0.975 and parameters: {'classifier': 'SVC', 'svc_c': 0.7945004485445272, 'kernel': 'linear'}. Best is trial 29 with value: 0.975.\n",
      "C:\\Users\\artem\\AppData\\Local\\Temp\\ipykernel_8264\\760220596.py:6: FutureWarning: suggest_loguniform has been deprecated in v3.0.0. This feature will be removed in v6.0.0. See https://github.com/optuna/optuna/releases/tag/v3.0.0. Use suggest_float(..., log=True) instead.\n",
      "  svc_c = trial.suggest_loguniform(\"svc_c\", 1e-3, 1e3)\n",
      "[I 2024-12-22 23:53:14,574] Trial 32 finished with value: 0.9583333333333334 and parameters: {'classifier': 'SVC', 'svc_c': 1.4792830737233642, 'kernel': 'linear'}. Best is trial 29 with value: 0.975.\n",
      "C:\\Users\\artem\\AppData\\Local\\Temp\\ipykernel_8264\\760220596.py:6: FutureWarning: suggest_loguniform has been deprecated in v3.0.0. This feature will be removed in v6.0.0. See https://github.com/optuna/optuna/releases/tag/v3.0.0. Use suggest_float(..., log=True) instead.\n",
      "  svc_c = trial.suggest_loguniform(\"svc_c\", 1e-3, 1e3)\n",
      "[I 2024-12-22 23:53:14,601] Trial 33 finished with value: 0.9500000000000001 and parameters: {'classifier': 'SVC', 'svc_c': 0.5610040976379926, 'kernel': 'linear'}. Best is trial 29 with value: 0.975.\n",
      "C:\\Users\\artem\\AppData\\Local\\Temp\\ipykernel_8264\\760220596.py:6: FutureWarning: suggest_loguniform has been deprecated in v3.0.0. This feature will be removed in v6.0.0. See https://github.com/optuna/optuna/releases/tag/v3.0.0. Use suggest_float(..., log=True) instead.\n",
      "  svc_c = trial.suggest_loguniform(\"svc_c\", 1e-3, 1e3)\n",
      "[I 2024-12-22 23:53:14,633] Trial 34 finished with value: 0.9500000000000001 and parameters: {'classifier': 'SVC', 'svc_c': 0.6198920948187835, 'kernel': 'linear'}. Best is trial 29 with value: 0.975.\n",
      "C:\\Users\\artem\\AppData\\Local\\Temp\\ipykernel_8264\\760220596.py:6: FutureWarning: suggest_loguniform has been deprecated in v3.0.0. This feature will be removed in v6.0.0. See https://github.com/optuna/optuna/releases/tag/v3.0.0. Use suggest_float(..., log=True) instead.\n",
      "  svc_c = trial.suggest_loguniform(\"svc_c\", 1e-3, 1e3)\n",
      "[I 2024-12-22 23:53:14,666] Trial 35 finished with value: 0.9583333333333334 and parameters: {'classifier': 'SVC', 'svc_c': 2.9014316778907876, 'kernel': 'linear'}. Best is trial 29 with value: 0.975.\n",
      "C:\\Users\\artem\\AppData\\Local\\Temp\\ipykernel_8264\\760220596.py:6: FutureWarning: suggest_loguniform has been deprecated in v3.0.0. This feature will be removed in v6.0.0. See https://github.com/optuna/optuna/releases/tag/v3.0.0. Use suggest_float(..., log=True) instead.\n",
      "  svc_c = trial.suggest_loguniform(\"svc_c\", 1e-3, 1e3)\n",
      "[I 2024-12-22 23:53:14,711] Trial 36 finished with value: 0.9500000000000001 and parameters: {'classifier': 'SVC', 'svc_c': 0.1257269404692722, 'kernel': 'linear'}. Best is trial 29 with value: 0.975.\n",
      "C:\\Users\\artem\\AppData\\Local\\Temp\\ipykernel_8264\\760220596.py:6: FutureWarning: suggest_loguniform has been deprecated in v3.0.0. This feature will be removed in v6.0.0. See https://github.com/optuna/optuna/releases/tag/v3.0.0. Use suggest_float(..., log=True) instead.\n",
      "  svc_c = trial.suggest_loguniform(\"svc_c\", 1e-3, 1e3)\n",
      "[I 2024-12-22 23:53:14,740] Trial 37 finished with value: 0.9500000000000001 and parameters: {'classifier': 'SVC', 'svc_c': 20.49990206212158, 'kernel': 'linear'}. Best is trial 29 with value: 0.975.\n",
      "C:\\Users\\artem\\AppData\\Local\\Temp\\ipykernel_8264\\760220596.py:6: FutureWarning: suggest_loguniform has been deprecated in v3.0.0. This feature will be removed in v6.0.0. See https://github.com/optuna/optuna/releases/tag/v3.0.0. Use suggest_float(..., log=True) instead.\n",
      "  svc_c = trial.suggest_loguniform(\"svc_c\", 1e-3, 1e3)\n",
      "[I 2024-12-22 23:53:14,774] Trial 38 finished with value: 0.9583333333333334 and parameters: {'classifier': 'SVC', 'svc_c': 0.13304475808827051, 'kernel': 'linear'}. Best is trial 29 with value: 0.975.\n",
      "C:\\Users\\artem\\AppData\\Local\\Temp\\ipykernel_8264\\760220596.py:6: FutureWarning: suggest_loguniform has been deprecated in v3.0.0. This feature will be removed in v6.0.0. See https://github.com/optuna/optuna/releases/tag/v3.0.0. Use suggest_float(..., log=True) instead.\n",
      "  svc_c = trial.suggest_loguniform(\"svc_c\", 1e-3, 1e3)\n",
      "[I 2024-12-22 23:53:14,805] Trial 39 finished with value: 0.9500000000000001 and parameters: {'classifier': 'SVC', 'svc_c': 9.293222561845553, 'kernel': 'linear'}. Best is trial 29 with value: 0.975.\n",
      "C:\\Users\\artem\\AppData\\Local\\Temp\\ipykernel_8264\\760220596.py:6: FutureWarning: suggest_loguniform has been deprecated in v3.0.0. This feature will be removed in v6.0.0. See https://github.com/optuna/optuna/releases/tag/v3.0.0. Use suggest_float(..., log=True) instead.\n",
      "  svc_c = trial.suggest_loguniform(\"svc_c\", 1e-3, 1e3)\n",
      "[I 2024-12-22 23:53:14,833] Trial 40 finished with value: 0.9500000000000001 and parameters: {'classifier': 'SVC', 'svc_c': 0.2501419313450772, 'kernel': 'linear'}. Best is trial 29 with value: 0.975.\n",
      "C:\\Users\\artem\\AppData\\Local\\Temp\\ipykernel_8264\\760220596.py:6: FutureWarning: suggest_loguniform has been deprecated in v3.0.0. This feature will be removed in v6.0.0. See https://github.com/optuna/optuna/releases/tag/v3.0.0. Use suggest_float(..., log=True) instead.\n",
      "  svc_c = trial.suggest_loguniform(\"svc_c\", 1e-3, 1e3)\n",
      "[I 2024-12-22 23:53:14,864] Trial 41 finished with value: 0.9500000000000001 and parameters: {'classifier': 'SVC', 'svc_c': 78.16727329862286, 'kernel': 'linear'}. Best is trial 29 with value: 0.975.\n",
      "C:\\Users\\artem\\AppData\\Local\\Temp\\ipykernel_8264\\760220596.py:6: FutureWarning: suggest_loguniform has been deprecated in v3.0.0. This feature will be removed in v6.0.0. See https://github.com/optuna/optuna/releases/tag/v3.0.0. Use suggest_float(..., log=True) instead.\n",
      "  svc_c = trial.suggest_loguniform(\"svc_c\", 1e-3, 1e3)\n",
      "[I 2024-12-22 23:53:14,898] Trial 42 finished with value: 0.9583333333333334 and parameters: {'classifier': 'SVC', 'svc_c': 3.9386361992278203, 'kernel': 'linear'}. Best is trial 29 with value: 0.975.\n",
      "C:\\Users\\artem\\AppData\\Local\\Temp\\ipykernel_8264\\760220596.py:6: FutureWarning: suggest_loguniform has been deprecated in v3.0.0. This feature will be removed in v6.0.0. See https://github.com/optuna/optuna/releases/tag/v3.0.0. Use suggest_float(..., log=True) instead.\n",
      "  svc_c = trial.suggest_loguniform(\"svc_c\", 1e-3, 1e3)\n",
      "[I 2024-12-22 23:53:14,930] Trial 43 finished with value: 0.9500000000000001 and parameters: {'classifier': 'SVC', 'svc_c': 845.9825671293097, 'kernel': 'linear'}. Best is trial 29 with value: 0.975.\n",
      "C:\\Users\\artem\\AppData\\Local\\Temp\\ipykernel_8264\\760220596.py:6: FutureWarning: suggest_loguniform has been deprecated in v3.0.0. This feature will be removed in v6.0.0. See https://github.com/optuna/optuna/releases/tag/v3.0.0. Use suggest_float(..., log=True) instead.\n",
      "  svc_c = trial.suggest_loguniform(\"svc_c\", 1e-3, 1e3)\n",
      "[I 2024-12-22 23:53:14,969] Trial 44 finished with value: 0.9583333333333334 and parameters: {'classifier': 'SVC', 'svc_c': 0.07653383962593936, 'kernel': 'linear'}. Best is trial 29 with value: 0.975.\n",
      "C:\\Users\\artem\\AppData\\Local\\Temp\\ipykernel_8264\\760220596.py:6: FutureWarning: suggest_loguniform has been deprecated in v3.0.0. This feature will be removed in v6.0.0. See https://github.com/optuna/optuna/releases/tag/v3.0.0. Use suggest_float(..., log=True) instead.\n",
      "  svc_c = trial.suggest_loguniform(\"svc_c\", 1e-3, 1e3)\n",
      "[I 2024-12-22 23:53:15,000] Trial 45 finished with value: 0.5583333333333333 and parameters: {'classifier': 'SVC', 'svc_c': 0.0012771580404151992, 'kernel': 'linear'}. Best is trial 29 with value: 0.975.\n",
      "C:\\Users\\artem\\AppData\\Local\\Temp\\ipykernel_8264\\760220596.py:6: FutureWarning: suggest_loguniform has been deprecated in v3.0.0. This feature will be removed in v6.0.0. See https://github.com/optuna/optuna/releases/tag/v3.0.0. Use suggest_float(..., log=True) instead.\n",
      "  svc_c = trial.suggest_loguniform(\"svc_c\", 1e-3, 1e3)\n",
      "[I 2024-12-22 23:53:15,027] Trial 46 finished with value: 0.9500000000000001 and parameters: {'classifier': 'SVC', 'svc_c': 1.1678583458451914, 'kernel': 'rbf'}. Best is trial 29 with value: 0.975.\n",
      "C:\\Users\\artem\\AppData\\Local\\Temp\\ipykernel_8264\\760220596.py:6: FutureWarning: suggest_loguniform has been deprecated in v3.0.0. This feature will be removed in v6.0.0. See https://github.com/optuna/optuna/releases/tag/v3.0.0. Use suggest_float(..., log=True) instead.\n",
      "  svc_c = trial.suggest_loguniform(\"svc_c\", 1e-3, 1e3)\n",
      "[I 2024-12-22 23:53:15,058] Trial 47 finished with value: 0.9583333333333334 and parameters: {'classifier': 'SVC', 'svc_c': 3.6396516109128787, 'kernel': 'linear'}. Best is trial 29 with value: 0.975.\n",
      "C:\\Users\\artem\\AppData\\Local\\Temp\\ipykernel_8264\\760220596.py:6: FutureWarning: suggest_loguniform has been deprecated in v3.0.0. This feature will be removed in v6.0.0. See https://github.com/optuna/optuna/releases/tag/v3.0.0. Use suggest_float(..., log=True) instead.\n",
      "  svc_c = trial.suggest_loguniform(\"svc_c\", 1e-3, 1e3)\n",
      "[I 2024-12-22 23:53:15,090] Trial 48 finished with value: 0.9583333333333334 and parameters: {'classifier': 'SVC', 'svc_c': 0.3516424040405788, 'kernel': 'linear'}. Best is trial 29 with value: 0.975.\n",
      "C:\\Users\\artem\\AppData\\Local\\Temp\\ipykernel_8264\\760220596.py:6: FutureWarning: suggest_loguniform has been deprecated in v3.0.0. This feature will be removed in v6.0.0. See https://github.com/optuna/optuna/releases/tag/v3.0.0. Use suggest_float(..., log=True) instead.\n",
      "  svc_c = trial.suggest_loguniform(\"svc_c\", 1e-3, 1e3)\n",
      "[I 2024-12-22 23:53:15,118] Trial 49 finished with value: 0.9500000000000001 and parameters: {'classifier': 'SVC', 'svc_c': 46.50049666739603, 'kernel': 'rbf'}. Best is trial 29 with value: 0.975.\n",
      "C:\\Users\\artem\\AppData\\Local\\Packages\\PythonSoftwareFoundation.Python.3.8_qbz5n2kfra8p0\\LocalCache\\local-packages\\Python38\\site-packages\\sklearn\\cluster\\_kmeans.py:1416: FutureWarning: The default value of `n_init` will change from 10 to 'auto' in 1.4. Set the value of `n_init` explicitly to suppress the warning\n",
      "  super()._check_params_vs_input(X, default_n_init=10)\n",
      "[I 2024-12-22 23:53:16,129] Trial 0 finished with value: 0.3542978877198849 and parameters: {'clustering': 'KMeans', 'n_clusters': 7}. Best is trial 0 with value: 0.3542978877198849.\n",
      "C:\\Users\\artem\\AppData\\Local\\Temp\\ipykernel_8264\\2293277177.py:9: FutureWarning: suggest_loguniform has been deprecated in v3.0.0. This feature will be removed in v6.0.0. See https://github.com/optuna/optuna/releases/tag/v3.0.0. Use suggest_float(..., log=True) instead.\n",
      "  eps = trial.suggest_loguniform(\"eps\", 1e-3, 1.0)\n",
      "[I 2024-12-22 23:53:16,142] Trial 1 finished with value: -1.0 and parameters: {'clustering': 'DBSCAN', 'eps': 0.04757750286602466, 'min_samples': 8}. Best is trial 0 with value: 0.3542978877198849.\n",
      "C:\\Users\\artem\\AppData\\Local\\Packages\\PythonSoftwareFoundation.Python.3.8_qbz5n2kfra8p0\\LocalCache\\local-packages\\Python38\\site-packages\\sklearn\\cluster\\_kmeans.py:1416: FutureWarning: The default value of `n_init` will change from 10 to 'auto' in 1.4. Set the value of `n_init` explicitly to suppress the warning\n",
      "  super()._check_params_vs_input(X, default_n_init=10)\n",
      "[I 2024-12-22 23:53:16,188] Trial 2 finished with value: 0.5528190123564095 and parameters: {'clustering': 'KMeans', 'n_clusters': 3}. Best is trial 2 with value: 0.5528190123564095.\n",
      "C:\\Users\\artem\\AppData\\Local\\Packages\\PythonSoftwareFoundation.Python.3.8_qbz5n2kfra8p0\\LocalCache\\local-packages\\Python38\\site-packages\\sklearn\\cluster\\_kmeans.py:1416: FutureWarning: The default value of `n_init` will change from 10 to 'auto' in 1.4. Set the value of `n_init` explicitly to suppress the warning\n",
      "  super()._check_params_vs_input(X, default_n_init=10)\n",
      "[I 2024-12-22 23:53:16,405] Trial 3 finished with value: 0.31796622568242083 and parameters: {'clustering': 'KMeans', 'n_clusters': 10}. Best is trial 2 with value: 0.5528190123564095.\n",
      "C:\\Users\\artem\\AppData\\Local\\Packages\\PythonSoftwareFoundation.Python.3.8_qbz5n2kfra8p0\\LocalCache\\local-packages\\Python38\\site-packages\\sklearn\\cluster\\_kmeans.py:1416: FutureWarning: The default value of `n_init` will change from 10 to 'auto' in 1.4. Set the value of `n_init` explicitly to suppress the warning\n",
      "  super()._check_params_vs_input(X, default_n_init=10)\n",
      "[I 2024-12-22 23:53:16,510] Trial 4 finished with value: 0.31796622568242083 and parameters: {'clustering': 'KMeans', 'n_clusters': 10}. Best is trial 2 with value: 0.5528190123564095.\n",
      "C:\\Users\\artem\\AppData\\Local\\Packages\\PythonSoftwareFoundation.Python.3.8_qbz5n2kfra8p0\\LocalCache\\local-packages\\Python38\\site-packages\\sklearn\\cluster\\_kmeans.py:1416: FutureWarning: The default value of `n_init` will change from 10 to 'auto' in 1.4. Set the value of `n_init` explicitly to suppress the warning\n",
      "  super()._check_params_vs_input(X, default_n_init=10)\n",
      "[I 2024-12-22 23:53:16,562] Trial 5 finished with value: 0.6810461692117462 and parameters: {'clustering': 'KMeans', 'n_clusters': 2}. Best is trial 5 with value: 0.6810461692117462.\n",
      "C:\\Users\\artem\\AppData\\Local\\Temp\\ipykernel_8264\\2293277177.py:9: FutureWarning: suggest_loguniform has been deprecated in v3.0.0. This feature will be removed in v6.0.0. See https://github.com/optuna/optuna/releases/tag/v3.0.0. Use suggest_float(..., log=True) instead.\n",
      "  eps = trial.suggest_loguniform(\"eps\", 1e-3, 1.0)\n",
      "[I 2024-12-22 23:53:16,576] Trial 6 finished with value: -1.0 and parameters: {'clustering': 'DBSCAN', 'eps': 0.004217011111311161, 'min_samples': 6}. Best is trial 5 with value: 0.6810461692117462.\n",
      "C:\\Users\\artem\\AppData\\Local\\Packages\\PythonSoftwareFoundation.Python.3.8_qbz5n2kfra8p0\\LocalCache\\local-packages\\Python38\\site-packages\\sklearn\\cluster\\_kmeans.py:1416: FutureWarning: The default value of `n_init` will change from 10 to 'auto' in 1.4. Set the value of `n_init` explicitly to suppress the warning\n",
      "  super()._check_params_vs_input(X, default_n_init=10)\n",
      "[I 2024-12-22 23:53:16,656] Trial 7 finished with value: 0.49805050499728737 and parameters: {'clustering': 'KMeans', 'n_clusters': 4}. Best is trial 5 with value: 0.6810461692117462.\n",
      "C:\\Users\\artem\\AppData\\Local\\Packages\\PythonSoftwareFoundation.Python.3.8_qbz5n2kfra8p0\\LocalCache\\local-packages\\Python38\\site-packages\\sklearn\\cluster\\_kmeans.py:1416: FutureWarning: The default value of `n_init` will change from 10 to 'auto' in 1.4. Set the value of `n_init` explicitly to suppress the warning\n",
      "  super()._check_params_vs_input(X, default_n_init=10)\n",
      "[I 2024-12-22 23:53:16,751] Trial 8 finished with value: 0.3542978877198849 and parameters: {'clustering': 'KMeans', 'n_clusters': 7}. Best is trial 5 with value: 0.6810461692117462.\n",
      "C:\\Users\\artem\\AppData\\Local\\Temp\\ipykernel_8264\\2293277177.py:9: FutureWarning: suggest_loguniform has been deprecated in v3.0.0. This feature will be removed in v6.0.0. See https://github.com/optuna/optuna/releases/tag/v3.0.0. Use suggest_float(..., log=True) instead.\n",
      "  eps = trial.suggest_loguniform(\"eps\", 1e-3, 1.0)\n",
      "[I 2024-12-22 23:53:16,770] Trial 9 finished with value: -1.0 and parameters: {'clustering': 'DBSCAN', 'eps': 0.0017918738198424845, 'min_samples': 8}. Best is trial 5 with value: 0.6810461692117462.\n",
      "C:\\Users\\artem\\AppData\\Local\\Packages\\PythonSoftwareFoundation.Python.3.8_qbz5n2kfra8p0\\LocalCache\\local-packages\\Python38\\site-packages\\sklearn\\cluster\\_kmeans.py:1416: FutureWarning: The default value of `n_init` will change from 10 to 'auto' in 1.4. Set the value of `n_init` explicitly to suppress the warning\n",
      "  super()._check_params_vs_input(X, default_n_init=10)\n",
      "[I 2024-12-22 23:53:16,868] Trial 10 finished with value: 0.3542978877198849 and parameters: {'clustering': 'KMeans', 'n_clusters': 7}. Best is trial 5 with value: 0.6810461692117462.\n",
      "C:\\Users\\artem\\AppData\\Local\\Packages\\PythonSoftwareFoundation.Python.3.8_qbz5n2kfra8p0\\LocalCache\\local-packages\\Python38\\site-packages\\sklearn\\cluster\\_kmeans.py:1416: FutureWarning: The default value of `n_init` will change from 10 to 'auto' in 1.4. Set the value of `n_init` explicitly to suppress the warning\n",
      "  super()._check_params_vs_input(X, default_n_init=10)\n",
      "[I 2024-12-22 23:53:16,983] Trial 11 finished with value: 0.31796622568242083 and parameters: {'clustering': 'KMeans', 'n_clusters': 10}. Best is trial 5 with value: 0.6810461692117462.\n",
      "C:\\Users\\artem\\AppData\\Local\\Temp\\ipykernel_8264\\2293277177.py:9: FutureWarning: suggest_loguniform has been deprecated in v3.0.0. This feature will be removed in v6.0.0. See https://github.com/optuna/optuna/releases/tag/v3.0.0. Use suggest_float(..., log=True) instead.\n",
      "  eps = trial.suggest_loguniform(\"eps\", 1e-3, 1.0)\n",
      "[I 2024-12-22 23:53:16,998] Trial 12 finished with value: -1.0 and parameters: {'clustering': 'DBSCAN', 'eps': 0.006220891976930161, 'min_samples': 7}. Best is trial 5 with value: 0.6810461692117462.\n",
      "C:\\Users\\artem\\AppData\\Local\\Temp\\ipykernel_8264\\2293277177.py:9: FutureWarning: suggest_loguniform has been deprecated in v3.0.0. This feature will be removed in v6.0.0. See https://github.com/optuna/optuna/releases/tag/v3.0.0. Use suggest_float(..., log=True) instead.\n",
      "  eps = trial.suggest_loguniform(\"eps\", 1e-3, 1.0)\n",
      "[I 2024-12-22 23:53:17,012] Trial 13 finished with value: -1.0 and parameters: {'clustering': 'DBSCAN', 'eps': 0.030837833687229605, 'min_samples': 7}. Best is trial 5 with value: 0.6810461692117462.\n",
      "C:\\Users\\artem\\AppData\\Local\\Temp\\ipykernel_8264\\2293277177.py:9: FutureWarning: suggest_loguniform has been deprecated in v3.0.0. This feature will be removed in v6.0.0. See https://github.com/optuna/optuna/releases/tag/v3.0.0. Use suggest_float(..., log=True) instead.\n",
      "  eps = trial.suggest_loguniform(\"eps\", 1e-3, 1.0)\n",
      "[I 2024-12-22 23:53:17,038] Trial 14 finished with value: 0.46601934482775303 and parameters: {'clustering': 'DBSCAN', 'eps': 0.4707645632894806, 'min_samples': 5}. Best is trial 5 with value: 0.6810461692117462.\n",
      "C:\\Users\\artem\\AppData\\Local\\Temp\\ipykernel_8264\\2293277177.py:9: FutureWarning: suggest_loguniform has been deprecated in v3.0.0. This feature will be removed in v6.0.0. See https://github.com/optuna/optuna/releases/tag/v3.0.0. Use suggest_float(..., log=True) instead.\n",
      "  eps = trial.suggest_loguniform(\"eps\", 1e-3, 1.0)\n",
      "[I 2024-12-22 23:53:17,056] Trial 15 finished with value: -1.0 and parameters: {'clustering': 'DBSCAN', 'eps': 0.030343738888625085, 'min_samples': 8}. Best is trial 5 with value: 0.6810461692117462.\n",
      "C:\\Users\\artem\\AppData\\Local\\Packages\\PythonSoftwareFoundation.Python.3.8_qbz5n2kfra8p0\\LocalCache\\local-packages\\Python38\\site-packages\\sklearn\\cluster\\_kmeans.py:1416: FutureWarning: The default value of `n_init` will change from 10 to 'auto' in 1.4. Set the value of `n_init` explicitly to suppress the warning\n",
      "  super()._check_params_vs_input(X, default_n_init=10)\n",
      "[I 2024-12-22 23:53:17,152] Trial 16 finished with value: 0.31796622568242083 and parameters: {'clustering': 'KMeans', 'n_clusters': 10}. Best is trial 5 with value: 0.6810461692117462.\n",
      "C:\\Users\\artem\\AppData\\Local\\Packages\\PythonSoftwareFoundation.Python.3.8_qbz5n2kfra8p0\\LocalCache\\local-packages\\Python38\\site-packages\\sklearn\\cluster\\_kmeans.py:1416: FutureWarning: The default value of `n_init` will change from 10 to 'auto' in 1.4. Set the value of `n_init` explicitly to suppress the warning\n",
      "  super()._check_params_vs_input(X, default_n_init=10)\n",
      "[I 2024-12-22 23:53:17,207] Trial 17 finished with value: 0.6810461692117462 and parameters: {'clustering': 'KMeans', 'n_clusters': 2}. Best is trial 5 with value: 0.6810461692117462.\n",
      "C:\\Users\\artem\\AppData\\Local\\Packages\\PythonSoftwareFoundation.Python.3.8_qbz5n2kfra8p0\\LocalCache\\local-packages\\Python38\\site-packages\\sklearn\\cluster\\_kmeans.py:1416: FutureWarning: The default value of `n_init` will change from 10 to 'auto' in 1.4. Set the value of `n_init` explicitly to suppress the warning\n",
      "  super()._check_params_vs_input(X, default_n_init=10)\n",
      "[I 2024-12-22 23:53:17,264] Trial 18 finished with value: 0.6810461692117462 and parameters: {'clustering': 'KMeans', 'n_clusters': 2}. Best is trial 5 with value: 0.6810461692117462.\n",
      "C:\\Users\\artem\\AppData\\Local\\Packages\\PythonSoftwareFoundation.Python.3.8_qbz5n2kfra8p0\\LocalCache\\local-packages\\Python38\\site-packages\\sklearn\\cluster\\_kmeans.py:1416: FutureWarning: The default value of `n_init` will change from 10 to 'auto' in 1.4. Set the value of `n_init` explicitly to suppress the warning\n",
      "  super()._check_params_vs_input(X, default_n_init=10)\n",
      "[I 2024-12-22 23:53:17,361] Trial 19 finished with value: 0.31796622568242083 and parameters: {'clustering': 'KMeans', 'n_clusters': 10}. Best is trial 5 with value: 0.6810461692117462.\n",
      "C:\\Users\\artem\\AppData\\Local\\Temp\\ipykernel_8264\\2293277177.py:9: FutureWarning: suggest_loguniform has been deprecated in v3.0.0. This feature will be removed in v6.0.0. See https://github.com/optuna/optuna/releases/tag/v3.0.0. Use suggest_float(..., log=True) instead.\n",
      "  eps = trial.suggest_loguniform(\"eps\", 1e-3, 1.0)\n",
      "[I 2024-12-22 23:53:17,378] Trial 20 finished with value: 0.23066713360518454 and parameters: {'clustering': 'DBSCAN', 'eps': 0.270156745234851, 'min_samples': 10}. Best is trial 5 with value: 0.6810461692117462.\n",
      "C:\\Users\\artem\\AppData\\Local\\Packages\\PythonSoftwareFoundation.Python.3.8_qbz5n2kfra8p0\\LocalCache\\local-packages\\Python38\\site-packages\\sklearn\\cluster\\_kmeans.py:1416: FutureWarning: The default value of `n_init` will change from 10 to 'auto' in 1.4. Set the value of `n_init` explicitly to suppress the warning\n",
      "  super()._check_params_vs_input(X, default_n_init=10)\n",
      "[I 2024-12-22 23:53:17,469] Trial 21 finished with value: 0.5528190123564095 and parameters: {'clustering': 'KMeans', 'n_clusters': 3}. Best is trial 5 with value: 0.6810461692117462.\n",
      "C:\\Users\\artem\\AppData\\Local\\Packages\\PythonSoftwareFoundation.Python.3.8_qbz5n2kfra8p0\\LocalCache\\local-packages\\Python38\\site-packages\\sklearn\\cluster\\_kmeans.py:1416: FutureWarning: The default value of `n_init` will change from 10 to 'auto' in 1.4. Set the value of `n_init` explicitly to suppress the warning\n",
      "  super()._check_params_vs_input(X, default_n_init=10)\n",
      "[I 2024-12-22 23:53:17,542] Trial 22 finished with value: 0.312504408396839 and parameters: {'clustering': 'KMeans', 'n_clusters': 9}. Best is trial 5 with value: 0.6810461692117462.\n",
      "C:\\Users\\artem\\AppData\\Local\\Temp\\ipykernel_8264\\2293277177.py:9: FutureWarning: suggest_loguniform has been deprecated in v3.0.0. This feature will be removed in v6.0.0. See https://github.com/optuna/optuna/releases/tag/v3.0.0. Use suggest_float(..., log=True) instead.\n",
      "  eps = trial.suggest_loguniform(\"eps\", 1e-3, 1.0)\n",
      "[I 2024-12-22 23:53:17,557] Trial 23 finished with value: 0.07957245123544242 and parameters: {'clustering': 'DBSCAN', 'eps': 0.1712460187336741, 'min_samples': 6}. Best is trial 5 with value: 0.6810461692117462.\n",
      "C:\\Users\\artem\\AppData\\Local\\Packages\\PythonSoftwareFoundation.Python.3.8_qbz5n2kfra8p0\\LocalCache\\local-packages\\Python38\\site-packages\\sklearn\\cluster\\_kmeans.py:1416: FutureWarning: The default value of `n_init` will change from 10 to 'auto' in 1.4. Set the value of `n_init` explicitly to suppress the warning\n",
      "  super()._check_params_vs_input(X, default_n_init=10)\n",
      "[I 2024-12-22 23:53:17,601] Trial 24 finished with value: 0.6810461692117462 and parameters: {'clustering': 'KMeans', 'n_clusters': 2}. Best is trial 5 with value: 0.6810461692117462.\n",
      "C:\\Users\\artem\\AppData\\Local\\Temp\\ipykernel_8264\\2293277177.py:9: FutureWarning: suggest_loguniform has been deprecated in v3.0.0. This feature will be removed in v6.0.0. See https://github.com/optuna/optuna/releases/tag/v3.0.0. Use suggest_float(..., log=True) instead.\n",
      "  eps = trial.suggest_loguniform(\"eps\", 1e-3, 1.0)\n",
      "[I 2024-12-22 23:53:17,624] Trial 25 finished with value: 0.6867350732769777 and parameters: {'clustering': 'DBSCAN', 'eps': 0.9530910029763359, 'min_samples': 2}. Best is trial 25 with value: 0.6867350732769777.\n",
      "C:\\Users\\artem\\AppData\\Local\\Packages\\PythonSoftwareFoundation.Python.3.8_qbz5n2kfra8p0\\LocalCache\\local-packages\\Python38\\site-packages\\sklearn\\cluster\\_kmeans.py:1416: FutureWarning: The default value of `n_init` will change from 10 to 'auto' in 1.4. Set the value of `n_init` explicitly to suppress the warning\n",
      "  super()._check_params_vs_input(X, default_n_init=10)\n",
      "[I 2024-12-22 23:53:17,709] Trial 26 finished with value: 0.3487345377219388 and parameters: {'clustering': 'KMeans', 'n_clusters': 8}. Best is trial 25 with value: 0.6867350732769777.\n",
      "C:\\Users\\artem\\AppData\\Local\\Temp\\ipykernel_8264\\2293277177.py:9: FutureWarning: suggest_loguniform has been deprecated in v3.0.0. This feature will be removed in v6.0.0. See https://github.com/optuna/optuna/releases/tag/v3.0.0. Use suggest_float(..., log=True) instead.\n",
      "  eps = trial.suggest_loguniform(\"eps\", 1e-3, 1.0)\n",
      "[I 2024-12-22 23:53:17,724] Trial 27 finished with value: -1.0 and parameters: {'clustering': 'DBSCAN', 'eps': 0.0013371412758009388, 'min_samples': 5}. Best is trial 25 with value: 0.6867350732769777.\n",
      "C:\\Users\\artem\\AppData\\Local\\Temp\\ipykernel_8264\\2293277177.py:9: FutureWarning: suggest_loguniform has been deprecated in v3.0.0. This feature will be removed in v6.0.0. See https://github.com/optuna/optuna/releases/tag/v3.0.0. Use suggest_float(..., log=True) instead.\n",
      "  eps = trial.suggest_loguniform(\"eps\", 1e-3, 1.0)\n",
      "[I 2024-12-22 23:53:17,740] Trial 28 finished with value: -1.0 and parameters: {'clustering': 'DBSCAN', 'eps': 0.027880869264235376, 'min_samples': 6}. Best is trial 25 with value: 0.6867350732769777.\n",
      "C:\\Users\\artem\\AppData\\Local\\Temp\\ipykernel_8264\\2293277177.py:9: FutureWarning: suggest_loguniform has been deprecated in v3.0.0. This feature will be removed in v6.0.0. See https://github.com/optuna/optuna/releases/tag/v3.0.0. Use suggest_float(..., log=True) instead.\n",
      "  eps = trial.suggest_loguniform(\"eps\", 1e-3, 1.0)\n",
      "[I 2024-12-22 23:53:17,753] Trial 29 finished with value: -1.0 and parameters: {'clustering': 'DBSCAN', 'eps': 0.05736128129357133, 'min_samples': 3}. Best is trial 25 with value: 0.6867350732769777.\n",
      "C:\\Users\\artem\\AppData\\Local\\Packages\\PythonSoftwareFoundation.Python.3.8_qbz5n2kfra8p0\\LocalCache\\local-packages\\Python38\\site-packages\\sklearn\\cluster\\_kmeans.py:1416: FutureWarning: The default value of `n_init` will change from 10 to 'auto' in 1.4. Set the value of `n_init` explicitly to suppress the warning\n",
      "  super()._check_params_vs_input(X, default_n_init=10)\n",
      "[I 2024-12-22 23:53:17,807] Trial 30 finished with value: 0.6810461692117462 and parameters: {'clustering': 'KMeans', 'n_clusters': 2}. Best is trial 25 with value: 0.6867350732769777.\n",
      "C:\\Users\\artem\\AppData\\Local\\Packages\\PythonSoftwareFoundation.Python.3.8_qbz5n2kfra8p0\\LocalCache\\local-packages\\Python38\\site-packages\\sklearn\\cluster\\_kmeans.py:1416: FutureWarning: The default value of `n_init` will change from 10 to 'auto' in 1.4. Set the value of `n_init` explicitly to suppress the warning\n",
      "  super()._check_params_vs_input(X, default_n_init=10)\n",
      "[I 2024-12-22 23:53:17,865] Trial 31 finished with value: 0.5528190123564095 and parameters: {'clustering': 'KMeans', 'n_clusters': 3}. Best is trial 25 with value: 0.6867350732769777.\n",
      "C:\\Users\\artem\\AppData\\Local\\Packages\\PythonSoftwareFoundation.Python.3.8_qbz5n2kfra8p0\\LocalCache\\local-packages\\Python38\\site-packages\\sklearn\\cluster\\_kmeans.py:1416: FutureWarning: The default value of `n_init` will change from 10 to 'auto' in 1.4. Set the value of `n_init` explicitly to suppress the warning\n",
      "  super()._check_params_vs_input(X, default_n_init=10)\n",
      "[I 2024-12-22 23:53:17,931] Trial 32 finished with value: 0.5528190123564095 and parameters: {'clustering': 'KMeans', 'n_clusters': 3}. Best is trial 25 with value: 0.6867350732769777.\n",
      "C:\\Users\\artem\\AppData\\Local\\Packages\\PythonSoftwareFoundation.Python.3.8_qbz5n2kfra8p0\\LocalCache\\local-packages\\Python38\\site-packages\\sklearn\\cluster\\_kmeans.py:1416: FutureWarning: The default value of `n_init` will change from 10 to 'auto' in 1.4. Set the value of `n_init` explicitly to suppress the warning\n",
      "  super()._check_params_vs_input(X, default_n_init=10)\n",
      "[I 2024-12-22 23:53:18,016] Trial 33 finished with value: 0.3542978877198849 and parameters: {'clustering': 'KMeans', 'n_clusters': 7}. Best is trial 25 with value: 0.6867350732769777.\n",
      "C:\\Users\\artem\\AppData\\Local\\Temp\\ipykernel_8264\\2293277177.py:9: FutureWarning: suggest_loguniform has been deprecated in v3.0.0. This feature will be removed in v6.0.0. See https://github.com/optuna/optuna/releases/tag/v3.0.0. Use suggest_float(..., log=True) instead.\n",
      "  eps = trial.suggest_loguniform(\"eps\", 1e-3, 1.0)\n",
      "[I 2024-12-22 23:53:18,034] Trial 34 finished with value: 0.423002591790791 and parameters: {'clustering': 'DBSCAN', 'eps': 0.5688941166042919, 'min_samples': 3}. Best is trial 25 with value: 0.6867350732769777.\n",
      "C:\\Users\\artem\\AppData\\Local\\Temp\\ipykernel_8264\\2293277177.py:9: FutureWarning: suggest_loguniform has been deprecated in v3.0.0. This feature will be removed in v6.0.0. See https://github.com/optuna/optuna/releases/tag/v3.0.0. Use suggest_float(..., log=True) instead.\n",
      "  eps = trial.suggest_loguniform(\"eps\", 1e-3, 1.0)\n",
      "[I 2024-12-22 23:53:18,047] Trial 35 finished with value: -1.0 and parameters: {'clustering': 'DBSCAN', 'eps': 0.11095933326752133, 'min_samples': 7}. Best is trial 25 with value: 0.6867350732769777.\n",
      "C:\\Users\\artem\\AppData\\Local\\Packages\\PythonSoftwareFoundation.Python.3.8_qbz5n2kfra8p0\\LocalCache\\local-packages\\Python38\\site-packages\\sklearn\\cluster\\_kmeans.py:1416: FutureWarning: The default value of `n_init` will change from 10 to 'auto' in 1.4. Set the value of `n_init` explicitly to suppress the warning\n",
      "  super()._check_params_vs_input(X, default_n_init=10)\n",
      "[I 2024-12-22 23:53:18,147] Trial 36 finished with value: 0.312504408396839 and parameters: {'clustering': 'KMeans', 'n_clusters': 9}. Best is trial 25 with value: 0.6867350732769777.\n",
      "C:\\Users\\artem\\AppData\\Local\\Temp\\ipykernel_8264\\2293277177.py:9: FutureWarning: suggest_loguniform has been deprecated in v3.0.0. This feature will be removed in v6.0.0. See https://github.com/optuna/optuna/releases/tag/v3.0.0. Use suggest_float(..., log=True) instead.\n",
      "  eps = trial.suggest_loguniform(\"eps\", 1e-3, 1.0)\n",
      "[I 2024-12-22 23:53:18,161] Trial 37 finished with value: -1.0 and parameters: {'clustering': 'DBSCAN', 'eps': 0.17160412830168312, 'min_samples': 10}. Best is trial 25 with value: 0.6867350732769777.\n",
      "C:\\Users\\artem\\AppData\\Local\\Packages\\PythonSoftwareFoundation.Python.3.8_qbz5n2kfra8p0\\LocalCache\\local-packages\\Python38\\site-packages\\sklearn\\cluster\\_kmeans.py:1416: FutureWarning: The default value of `n_init` will change from 10 to 'auto' in 1.4. Set the value of `n_init` explicitly to suppress the warning\n",
      "  super()._check_params_vs_input(X, default_n_init=10)\n",
      "[I 2024-12-22 23:53:18,249] Trial 38 finished with value: 0.312504408396839 and parameters: {'clustering': 'KMeans', 'n_clusters': 9}. Best is trial 25 with value: 0.6867350732769777.\n",
      "C:\\Users\\artem\\AppData\\Local\\Temp\\ipykernel_8264\\2293277177.py:9: FutureWarning: suggest_loguniform has been deprecated in v3.0.0. This feature will be removed in v6.0.0. See https://github.com/optuna/optuna/releases/tag/v3.0.0. Use suggest_float(..., log=True) instead.\n",
      "  eps = trial.suggest_loguniform(\"eps\", 1e-3, 1.0)\n",
      "[I 2024-12-22 23:53:18,265] Trial 39 finished with value: -0.20942917889319423 and parameters: {'clustering': 'DBSCAN', 'eps': 0.0020831539715555707, 'min_samples': 2}. Best is trial 25 with value: 0.6867350732769777.\n",
      "C:\\Users\\artem\\AppData\\Local\\Temp\\ipykernel_8264\\2293277177.py:9: FutureWarning: suggest_loguniform has been deprecated in v3.0.0. This feature will be removed in v6.0.0. See https://github.com/optuna/optuna/releases/tag/v3.0.0. Use suggest_float(..., log=True) instead.\n",
      "  eps = trial.suggest_loguniform(\"eps\", 1e-3, 1.0)\n",
      "[I 2024-12-22 23:53:18,282] Trial 40 finished with value: -0.20942917889319423 and parameters: {'clustering': 'DBSCAN', 'eps': 0.002416446727998873, 'min_samples': 2}. Best is trial 25 with value: 0.6867350732769777.\n",
      "C:\\Users\\artem\\AppData\\Local\\Temp\\ipykernel_8264\\2293277177.py:9: FutureWarning: suggest_loguniform has been deprecated in v3.0.0. This feature will be removed in v6.0.0. See https://github.com/optuna/optuna/releases/tag/v3.0.0. Use suggest_float(..., log=True) instead.\n",
      "  eps = trial.suggest_loguniform(\"eps\", 1e-3, 1.0)\n",
      "[I 2024-12-22 23:53:18,296] Trial 41 finished with value: -1.0 and parameters: {'clustering': 'DBSCAN', 'eps': 0.008971914430850504, 'min_samples': 10}. Best is trial 25 with value: 0.6867350732769777.\n",
      "C:\\Users\\artem\\AppData\\Local\\Packages\\PythonSoftwareFoundation.Python.3.8_qbz5n2kfra8p0\\LocalCache\\local-packages\\Python38\\site-packages\\sklearn\\cluster\\_kmeans.py:1416: FutureWarning: The default value of `n_init` will change from 10 to 'auto' in 1.4. Set the value of `n_init` explicitly to suppress the warning\n",
      "  super()._check_params_vs_input(X, default_n_init=10)\n",
      "[I 2024-12-22 23:53:18,366] Trial 42 finished with value: 0.49805050499728737 and parameters: {'clustering': 'KMeans', 'n_clusters': 4}. Best is trial 25 with value: 0.6867350732769777.\n",
      "C:\\Users\\artem\\AppData\\Local\\Packages\\PythonSoftwareFoundation.Python.3.8_qbz5n2kfra8p0\\LocalCache\\local-packages\\Python38\\site-packages\\sklearn\\cluster\\_kmeans.py:1416: FutureWarning: The default value of `n_init` will change from 10 to 'auto' in 1.4. Set the value of `n_init` explicitly to suppress the warning\n",
      "  super()._check_params_vs_input(X, default_n_init=10)\n",
      "[I 2024-12-22 23:53:18,459] Trial 43 finished with value: 0.312504408396839 and parameters: {'clustering': 'KMeans', 'n_clusters': 9}. Best is trial 25 with value: 0.6867350732769777.\n",
      "C:\\Users\\artem\\AppData\\Local\\Packages\\PythonSoftwareFoundation.Python.3.8_qbz5n2kfra8p0\\LocalCache\\local-packages\\Python38\\site-packages\\sklearn\\cluster\\_kmeans.py:1416: FutureWarning: The default value of `n_init` will change from 10 to 'auto' in 1.4. Set the value of `n_init` explicitly to suppress the warning\n",
      "  super()._check_params_vs_input(X, default_n_init=10)\n",
      "[I 2024-12-22 23:53:18,556] Trial 44 finished with value: 0.31796622568242083 and parameters: {'clustering': 'KMeans', 'n_clusters': 10}. Best is trial 25 with value: 0.6867350732769777.\n",
      "C:\\Users\\artem\\AppData\\Local\\Temp\\ipykernel_8264\\2293277177.py:9: FutureWarning: suggest_loguniform has been deprecated in v3.0.0. This feature will be removed in v6.0.0. See https://github.com/optuna/optuna/releases/tag/v3.0.0. Use suggest_float(..., log=True) instead.\n",
      "  eps = trial.suggest_loguniform(\"eps\", 1e-3, 1.0)\n",
      "[I 2024-12-22 23:53:18,568] Trial 45 finished with value: -1.0 and parameters: {'clustering': 'DBSCAN', 'eps': 0.028686985310087714, 'min_samples': 7}. Best is trial 25 with value: 0.6867350732769777.\n",
      "C:\\Users\\artem\\AppData\\Local\\Packages\\PythonSoftwareFoundation.Python.3.8_qbz5n2kfra8p0\\LocalCache\\local-packages\\Python38\\site-packages\\sklearn\\cluster\\_kmeans.py:1416: FutureWarning: The default value of `n_init` will change from 10 to 'auto' in 1.4. Set the value of `n_init` explicitly to suppress the warning\n",
      "  super()._check_params_vs_input(X, default_n_init=10)\n",
      "[I 2024-12-22 23:53:18,653] Trial 46 finished with value: 0.312504408396839 and parameters: {'clustering': 'KMeans', 'n_clusters': 9}. Best is trial 25 with value: 0.6867350732769777.\n",
      "C:\\Users\\artem\\AppData\\Local\\Temp\\ipykernel_8264\\2293277177.py:9: FutureWarning: suggest_loguniform has been deprecated in v3.0.0. This feature will be removed in v6.0.0. See https://github.com/optuna/optuna/releases/tag/v3.0.0. Use suggest_float(..., log=True) instead.\n",
      "  eps = trial.suggest_loguniform(\"eps\", 1e-3, 1.0)\n",
      "[I 2024-12-22 23:53:18,665] Trial 47 finished with value: -1.0 and parameters: {'clustering': 'DBSCAN', 'eps': 0.003297945308943404, 'min_samples': 7}. Best is trial 25 with value: 0.6867350732769777.\n",
      "C:\\Users\\artem\\AppData\\Local\\Temp\\ipykernel_8264\\2293277177.py:9: FutureWarning: suggest_loguniform has been deprecated in v3.0.0. This feature will be removed in v6.0.0. See https://github.com/optuna/optuna/releases/tag/v3.0.0. Use suggest_float(..., log=True) instead.\n",
      "  eps = trial.suggest_loguniform(\"eps\", 1e-3, 1.0)\n",
      "[I 2024-12-22 23:53:18,677] Trial 48 finished with value: -1.0 and parameters: {'clustering': 'DBSCAN', 'eps': 0.04750660064362499, 'min_samples': 9}. Best is trial 25 with value: 0.6867350732769777.\n",
      "C:\\Users\\artem\\AppData\\Local\\Packages\\PythonSoftwareFoundation.Python.3.8_qbz5n2kfra8p0\\LocalCache\\local-packages\\Python38\\site-packages\\sklearn\\cluster\\_kmeans.py:1416: FutureWarning: The default value of `n_init` will change from 10 to 'auto' in 1.4. Set the value of `n_init` explicitly to suppress the warning\n",
      "  super()._check_params_vs_input(X, default_n_init=10)\n",
      "[I 2024-12-22 23:53:18,741] Trial 49 finished with value: 0.49805050499728737 and parameters: {'clustering': 'KMeans', 'n_clusters': 4}. Best is trial 25 with value: 0.6867350732769777.\n"
     ]
    }
   ],
   "source": [
    "study_classification.optimize(objective_classification, n_trials=50)\n",
    "study_clustering.optimize(objective_clustering, n_trials=50)"
   ]
  },
  {
   "cell_type": "code",
   "execution_count": 21,
   "metadata": {},
   "outputs": [
    {
     "name": "stdout",
     "output_type": "stream",
     "text": [
      "Best hyperparameters for classification:\n",
      "{'classifier': 'SVC', 'svc_c': 0.9890210625560284, 'kernel': 'linear'}\n",
      "Best hyperparameters for clustering:\n",
      "{'clustering': 'DBSCAN', 'eps': 0.9530910029763359, 'min_samples': 2}\n"
     ]
    }
   ],
   "source": [
    "print(\"Best hyperparameters for classification:\")\n",
    "print(study_classification.best_params)\n",
    "\n",
    "print(\"Best hyperparameters for clustering:\")\n",
    "print(study_clustering.best_params)"
   ]
  },
  {
   "cell_type": "code",
   "execution_count": null,
   "metadata": {},
   "outputs": [
    {
     "data": {
      "application/vnd.plotly.v1+json": {
       "config": {
        "plotlyServerURL": "https://plot.ly"
       },
       "data": [
        {
         "mode": "markers",
         "name": "Objective Value",
         "type": "scatter",
         "x": [
          0,
          1,
          2,
          3,
          4,
          5,
          6,
          7,
          8,
          9,
          10,
          11,
          12,
          13,
          14,
          15,
          16,
          17,
          18,
          19,
          20,
          21,
          22,
          23,
          24,
          25,
          26,
          27,
          28,
          29,
          30,
          31,
          32,
          33,
          34,
          35,
          36,
          37,
          38,
          39,
          40,
          41,
          42,
          43,
          44,
          45,
          46,
          47,
          48,
          49
         ],
         "y": [
          0.9499999999999998,
          0.9583333333333334,
          0.9583333333333334,
          0.5583333333333333,
          0.6750000000000002,
          0.9583333333333334,
          0.9416666666666668,
          0.5583333333333333,
          0.9500000000000001,
          0.9583333333333334,
          0.9500000000000001,
          0.9583333333333334,
          0.9583333333333334,
          0.9583333333333334,
          0.9500000000000001,
          0.9583333333333334,
          0.9583333333333334,
          0.9500000000000001,
          0.9583333333333334,
          0.9500000000000001,
          0.9416666666666668,
          0.9500000000000001,
          0.9500000000000001,
          0.9583333333333334,
          0.9583333333333334,
          0.9583333333333334,
          0.9583333333333334,
          0.9500000000000001,
          0.9583333333333334,
          0.975,
          0.975,
          0.975,
          0.9583333333333334,
          0.9500000000000001,
          0.9500000000000001,
          0.9583333333333334,
          0.9500000000000001,
          0.9500000000000001,
          0.9583333333333334,
          0.9500000000000001,
          0.9500000000000001,
          0.9500000000000001,
          0.9583333333333334,
          0.9500000000000001,
          0.9583333333333334,
          0.5583333333333333,
          0.9500000000000001,
          0.9583333333333334,
          0.9583333333333334,
          0.9500000000000001
         ]
        },
        {
         "mode": "lines",
         "name": "Best Value",
         "type": "scatter",
         "x": [
          0,
          1,
          2,
          3,
          4,
          5,
          6,
          7,
          8,
          9,
          10,
          11,
          12,
          13,
          14,
          15,
          16,
          17,
          18,
          19,
          20,
          21,
          22,
          23,
          24,
          25,
          26,
          27,
          28,
          29,
          30,
          31,
          32,
          33,
          34,
          35,
          36,
          37,
          38,
          39,
          40,
          41,
          42,
          43,
          44,
          45,
          46,
          47,
          48,
          49
         ],
         "y": [
          0.9499999999999998,
          0.9583333333333334,
          0.9583333333333334,
          0.9583333333333334,
          0.9583333333333334,
          0.9583333333333334,
          0.9583333333333334,
          0.9583333333333334,
          0.9583333333333334,
          0.9583333333333334,
          0.9583333333333334,
          0.9583333333333334,
          0.9583333333333334,
          0.9583333333333334,
          0.9583333333333334,
          0.9583333333333334,
          0.9583333333333334,
          0.9583333333333334,
          0.9583333333333334,
          0.9583333333333334,
          0.9583333333333334,
          0.9583333333333334,
          0.9583333333333334,
          0.9583333333333334,
          0.9583333333333334,
          0.9583333333333334,
          0.9583333333333334,
          0.9583333333333334,
          0.9583333333333334,
          0.975,
          0.975,
          0.975,
          0.975,
          0.975,
          0.975,
          0.975,
          0.975,
          0.975,
          0.975,
          0.975,
          0.975,
          0.975,
          0.975,
          0.975,
          0.975,
          0.975,
          0.975,
          0.975,
          0.975,
          0.975
         ]
        },
        {
         "marker": {
          "color": "#cccccc"
         },
         "mode": "markers",
         "name": "Infeasible Trial",
         "showlegend": false,
         "type": "scatter",
         "x": [],
         "y": []
        }
       ],
       "layout": {
        "template": {
         "data": {
          "bar": [
           {
            "error_x": {
             "color": "#2a3f5f"
            },
            "error_y": {
             "color": "#2a3f5f"
            },
            "marker": {
             "line": {
              "color": "#E5ECF6",
              "width": 0.5
             },
             "pattern": {
              "fillmode": "overlay",
              "size": 10,
              "solidity": 0.2
             }
            },
            "type": "bar"
           }
          ],
          "barpolar": [
           {
            "marker": {
             "line": {
              "color": "#E5ECF6",
              "width": 0.5
             },
             "pattern": {
              "fillmode": "overlay",
              "size": 10,
              "solidity": 0.2
             }
            },
            "type": "barpolar"
           }
          ],
          "carpet": [
           {
            "aaxis": {
             "endlinecolor": "#2a3f5f",
             "gridcolor": "white",
             "linecolor": "white",
             "minorgridcolor": "white",
             "startlinecolor": "#2a3f5f"
            },
            "baxis": {
             "endlinecolor": "#2a3f5f",
             "gridcolor": "white",
             "linecolor": "white",
             "minorgridcolor": "white",
             "startlinecolor": "#2a3f5f"
            },
            "type": "carpet"
           }
          ],
          "choropleth": [
           {
            "colorbar": {
             "outlinewidth": 0,
             "ticks": ""
            },
            "type": "choropleth"
           }
          ],
          "contour": [
           {
            "colorbar": {
             "outlinewidth": 0,
             "ticks": ""
            },
            "colorscale": [
             [
              0,
              "#0d0887"
             ],
             [
              0.1111111111111111,
              "#46039f"
             ],
             [
              0.2222222222222222,
              "#7201a8"
             ],
             [
              0.3333333333333333,
              "#9c179e"
             ],
             [
              0.4444444444444444,
              "#bd3786"
             ],
             [
              0.5555555555555556,
              "#d8576b"
             ],
             [
              0.6666666666666666,
              "#ed7953"
             ],
             [
              0.7777777777777778,
              "#fb9f3a"
             ],
             [
              0.8888888888888888,
              "#fdca26"
             ],
             [
              1,
              "#f0f921"
             ]
            ],
            "type": "contour"
           }
          ],
          "contourcarpet": [
           {
            "colorbar": {
             "outlinewidth": 0,
             "ticks": ""
            },
            "type": "contourcarpet"
           }
          ],
          "heatmap": [
           {
            "colorbar": {
             "outlinewidth": 0,
             "ticks": ""
            },
            "colorscale": [
             [
              0,
              "#0d0887"
             ],
             [
              0.1111111111111111,
              "#46039f"
             ],
             [
              0.2222222222222222,
              "#7201a8"
             ],
             [
              0.3333333333333333,
              "#9c179e"
             ],
             [
              0.4444444444444444,
              "#bd3786"
             ],
             [
              0.5555555555555556,
              "#d8576b"
             ],
             [
              0.6666666666666666,
              "#ed7953"
             ],
             [
              0.7777777777777778,
              "#fb9f3a"
             ],
             [
              0.8888888888888888,
              "#fdca26"
             ],
             [
              1,
              "#f0f921"
             ]
            ],
            "type": "heatmap"
           }
          ],
          "heatmapgl": [
           {
            "colorbar": {
             "outlinewidth": 0,
             "ticks": ""
            },
            "colorscale": [
             [
              0,
              "#0d0887"
             ],
             [
              0.1111111111111111,
              "#46039f"
             ],
             [
              0.2222222222222222,
              "#7201a8"
             ],
             [
              0.3333333333333333,
              "#9c179e"
             ],
             [
              0.4444444444444444,
              "#bd3786"
             ],
             [
              0.5555555555555556,
              "#d8576b"
             ],
             [
              0.6666666666666666,
              "#ed7953"
             ],
             [
              0.7777777777777778,
              "#fb9f3a"
             ],
             [
              0.8888888888888888,
              "#fdca26"
             ],
             [
              1,
              "#f0f921"
             ]
            ],
            "type": "heatmapgl"
           }
          ],
          "histogram": [
           {
            "marker": {
             "pattern": {
              "fillmode": "overlay",
              "size": 10,
              "solidity": 0.2
             }
            },
            "type": "histogram"
           }
          ],
          "histogram2d": [
           {
            "colorbar": {
             "outlinewidth": 0,
             "ticks": ""
            },
            "colorscale": [
             [
              0,
              "#0d0887"
             ],
             [
              0.1111111111111111,
              "#46039f"
             ],
             [
              0.2222222222222222,
              "#7201a8"
             ],
             [
              0.3333333333333333,
              "#9c179e"
             ],
             [
              0.4444444444444444,
              "#bd3786"
             ],
             [
              0.5555555555555556,
              "#d8576b"
             ],
             [
              0.6666666666666666,
              "#ed7953"
             ],
             [
              0.7777777777777778,
              "#fb9f3a"
             ],
             [
              0.8888888888888888,
              "#fdca26"
             ],
             [
              1,
              "#f0f921"
             ]
            ],
            "type": "histogram2d"
           }
          ],
          "histogram2dcontour": [
           {
            "colorbar": {
             "outlinewidth": 0,
             "ticks": ""
            },
            "colorscale": [
             [
              0,
              "#0d0887"
             ],
             [
              0.1111111111111111,
              "#46039f"
             ],
             [
              0.2222222222222222,
              "#7201a8"
             ],
             [
              0.3333333333333333,
              "#9c179e"
             ],
             [
              0.4444444444444444,
              "#bd3786"
             ],
             [
              0.5555555555555556,
              "#d8576b"
             ],
             [
              0.6666666666666666,
              "#ed7953"
             ],
             [
              0.7777777777777778,
              "#fb9f3a"
             ],
             [
              0.8888888888888888,
              "#fdca26"
             ],
             [
              1,
              "#f0f921"
             ]
            ],
            "type": "histogram2dcontour"
           }
          ],
          "mesh3d": [
           {
            "colorbar": {
             "outlinewidth": 0,
             "ticks": ""
            },
            "type": "mesh3d"
           }
          ],
          "parcoords": [
           {
            "line": {
             "colorbar": {
              "outlinewidth": 0,
              "ticks": ""
             }
            },
            "type": "parcoords"
           }
          ],
          "pie": [
           {
            "automargin": true,
            "type": "pie"
           }
          ],
          "scatter": [
           {
            "fillpattern": {
             "fillmode": "overlay",
             "size": 10,
             "solidity": 0.2
            },
            "type": "scatter"
           }
          ],
          "scatter3d": [
           {
            "line": {
             "colorbar": {
              "outlinewidth": 0,
              "ticks": ""
             }
            },
            "marker": {
             "colorbar": {
              "outlinewidth": 0,
              "ticks": ""
             }
            },
            "type": "scatter3d"
           }
          ],
          "scattercarpet": [
           {
            "marker": {
             "colorbar": {
              "outlinewidth": 0,
              "ticks": ""
             }
            },
            "type": "scattercarpet"
           }
          ],
          "scattergeo": [
           {
            "marker": {
             "colorbar": {
              "outlinewidth": 0,
              "ticks": ""
             }
            },
            "type": "scattergeo"
           }
          ],
          "scattergl": [
           {
            "marker": {
             "colorbar": {
              "outlinewidth": 0,
              "ticks": ""
             }
            },
            "type": "scattergl"
           }
          ],
          "scattermapbox": [
           {
            "marker": {
             "colorbar": {
              "outlinewidth": 0,
              "ticks": ""
             }
            },
            "type": "scattermapbox"
           }
          ],
          "scatterpolar": [
           {
            "marker": {
             "colorbar": {
              "outlinewidth": 0,
              "ticks": ""
             }
            },
            "type": "scatterpolar"
           }
          ],
          "scatterpolargl": [
           {
            "marker": {
             "colorbar": {
              "outlinewidth": 0,
              "ticks": ""
             }
            },
            "type": "scatterpolargl"
           }
          ],
          "scatterternary": [
           {
            "marker": {
             "colorbar": {
              "outlinewidth": 0,
              "ticks": ""
             }
            },
            "type": "scatterternary"
           }
          ],
          "surface": [
           {
            "colorbar": {
             "outlinewidth": 0,
             "ticks": ""
            },
            "colorscale": [
             [
              0,
              "#0d0887"
             ],
             [
              0.1111111111111111,
              "#46039f"
             ],
             [
              0.2222222222222222,
              "#7201a8"
             ],
             [
              0.3333333333333333,
              "#9c179e"
             ],
             [
              0.4444444444444444,
              "#bd3786"
             ],
             [
              0.5555555555555556,
              "#d8576b"
             ],
             [
              0.6666666666666666,
              "#ed7953"
             ],
             [
              0.7777777777777778,
              "#fb9f3a"
             ],
             [
              0.8888888888888888,
              "#fdca26"
             ],
             [
              1,
              "#f0f921"
             ]
            ],
            "type": "surface"
           }
          ],
          "table": [
           {
            "cells": {
             "fill": {
              "color": "#EBF0F8"
             },
             "line": {
              "color": "white"
             }
            },
            "header": {
             "fill": {
              "color": "#C8D4E3"
             },
             "line": {
              "color": "white"
             }
            },
            "type": "table"
           }
          ]
         },
         "layout": {
          "annotationdefaults": {
           "arrowcolor": "#2a3f5f",
           "arrowhead": 0,
           "arrowwidth": 1
          },
          "autotypenumbers": "strict",
          "coloraxis": {
           "colorbar": {
            "outlinewidth": 0,
            "ticks": ""
           }
          },
          "colorscale": {
           "diverging": [
            [
             0,
             "#8e0152"
            ],
            [
             0.1,
             "#c51b7d"
            ],
            [
             0.2,
             "#de77ae"
            ],
            [
             0.3,
             "#f1b6da"
            ],
            [
             0.4,
             "#fde0ef"
            ],
            [
             0.5,
             "#f7f7f7"
            ],
            [
             0.6,
             "#e6f5d0"
            ],
            [
             0.7,
             "#b8e186"
            ],
            [
             0.8,
             "#7fbc41"
            ],
            [
             0.9,
             "#4d9221"
            ],
            [
             1,
             "#276419"
            ]
           ],
           "sequential": [
            [
             0,
             "#0d0887"
            ],
            [
             0.1111111111111111,
             "#46039f"
            ],
            [
             0.2222222222222222,
             "#7201a8"
            ],
            [
             0.3333333333333333,
             "#9c179e"
            ],
            [
             0.4444444444444444,
             "#bd3786"
            ],
            [
             0.5555555555555556,
             "#d8576b"
            ],
            [
             0.6666666666666666,
             "#ed7953"
            ],
            [
             0.7777777777777778,
             "#fb9f3a"
            ],
            [
             0.8888888888888888,
             "#fdca26"
            ],
            [
             1,
             "#f0f921"
            ]
           ],
           "sequentialminus": [
            [
             0,
             "#0d0887"
            ],
            [
             0.1111111111111111,
             "#46039f"
            ],
            [
             0.2222222222222222,
             "#7201a8"
            ],
            [
             0.3333333333333333,
             "#9c179e"
            ],
            [
             0.4444444444444444,
             "#bd3786"
            ],
            [
             0.5555555555555556,
             "#d8576b"
            ],
            [
             0.6666666666666666,
             "#ed7953"
            ],
            [
             0.7777777777777778,
             "#fb9f3a"
            ],
            [
             0.8888888888888888,
             "#fdca26"
            ],
            [
             1,
             "#f0f921"
            ]
           ]
          },
          "colorway": [
           "#636efa",
           "#EF553B",
           "#00cc96",
           "#ab63fa",
           "#FFA15A",
           "#19d3f3",
           "#FF6692",
           "#B6E880",
           "#FF97FF",
           "#FECB52"
          ],
          "font": {
           "color": "#2a3f5f"
          },
          "geo": {
           "bgcolor": "white",
           "lakecolor": "white",
           "landcolor": "#E5ECF6",
           "showlakes": true,
           "showland": true,
           "subunitcolor": "white"
          },
          "hoverlabel": {
           "align": "left"
          },
          "hovermode": "closest",
          "mapbox": {
           "style": "light"
          },
          "paper_bgcolor": "white",
          "plot_bgcolor": "#E5ECF6",
          "polar": {
           "angularaxis": {
            "gridcolor": "white",
            "linecolor": "white",
            "ticks": ""
           },
           "bgcolor": "#E5ECF6",
           "radialaxis": {
            "gridcolor": "white",
            "linecolor": "white",
            "ticks": ""
           }
          },
          "scene": {
           "xaxis": {
            "backgroundcolor": "#E5ECF6",
            "gridcolor": "white",
            "gridwidth": 2,
            "linecolor": "white",
            "showbackground": true,
            "ticks": "",
            "zerolinecolor": "white"
           },
           "yaxis": {
            "backgroundcolor": "#E5ECF6",
            "gridcolor": "white",
            "gridwidth": 2,
            "linecolor": "white",
            "showbackground": true,
            "ticks": "",
            "zerolinecolor": "white"
           },
           "zaxis": {
            "backgroundcolor": "#E5ECF6",
            "gridcolor": "white",
            "gridwidth": 2,
            "linecolor": "white",
            "showbackground": true,
            "ticks": "",
            "zerolinecolor": "white"
           }
          },
          "shapedefaults": {
           "line": {
            "color": "#2a3f5f"
           }
          },
          "ternary": {
           "aaxis": {
            "gridcolor": "white",
            "linecolor": "white",
            "ticks": ""
           },
           "baxis": {
            "gridcolor": "white",
            "linecolor": "white",
            "ticks": ""
           },
           "bgcolor": "#E5ECF6",
           "caxis": {
            "gridcolor": "white",
            "linecolor": "white",
            "ticks": ""
           }
          },
          "title": {
           "x": 0.05
          },
          "xaxis": {
           "automargin": true,
           "gridcolor": "white",
           "linecolor": "white",
           "ticks": "",
           "title": {
            "standoff": 15
           },
           "zerolinecolor": "white",
           "zerolinewidth": 2
          },
          "yaxis": {
           "automargin": true,
           "gridcolor": "white",
           "linecolor": "white",
           "ticks": "",
           "title": {
            "standoff": 15
           },
           "zerolinecolor": "white",
           "zerolinewidth": 2
          }
         }
        },
        "title": {
         "text": "Optimization History Plot"
        },
        "xaxis": {
         "title": {
          "text": "Trial"
         }
        },
        "yaxis": {
         "title": {
          "text": "Objective Value"
         }
        }
       }
      }
     },
     "metadata": {},
     "output_type": "display_data"
    },
    {
     "data": {
      "application/vnd.plotly.v1+json": {
       "config": {
        "plotlyServerURL": "https://plot.ly"
       },
       "data": [
        {
         "mode": "markers",
         "name": "Objective Value",
         "type": "scatter",
         "x": [
          0,
          1,
          2,
          3,
          4,
          5,
          6,
          7,
          8,
          9,
          10,
          11,
          12,
          13,
          14,
          15,
          16,
          17,
          18,
          19,
          20,
          21,
          22,
          23,
          24,
          25,
          26,
          27,
          28,
          29,
          30,
          31,
          32,
          33,
          34,
          35,
          36,
          37,
          38,
          39,
          40,
          41,
          42,
          43,
          44,
          45,
          46,
          47,
          48,
          49
         ],
         "y": [
          0.3542978877198849,
          -1,
          0.5528190123564095,
          0.31796622568242083,
          0.31796622568242083,
          0.6810461692117462,
          -1,
          0.49805050499728737,
          0.3542978877198849,
          -1,
          0.3542978877198849,
          0.31796622568242083,
          -1,
          -1,
          0.46601934482775303,
          -1,
          0.31796622568242083,
          0.6810461692117462,
          0.6810461692117462,
          0.31796622568242083,
          0.23066713360518454,
          0.5528190123564095,
          0.312504408396839,
          0.07957245123544242,
          0.6810461692117462,
          0.6867350732769777,
          0.3487345377219388,
          -1,
          -1,
          -1,
          0.6810461692117462,
          0.5528190123564095,
          0.5528190123564095,
          0.3542978877198849,
          0.423002591790791,
          -1,
          0.312504408396839,
          -1,
          0.312504408396839,
          -0.20942917889319423,
          -0.20942917889319423,
          -1,
          0.49805050499728737,
          0.312504408396839,
          0.31796622568242083,
          -1,
          0.312504408396839,
          -1,
          -1,
          0.49805050499728737
         ]
        },
        {
         "mode": "lines",
         "name": "Best Value",
         "type": "scatter",
         "x": [
          0,
          1,
          2,
          3,
          4,
          5,
          6,
          7,
          8,
          9,
          10,
          11,
          12,
          13,
          14,
          15,
          16,
          17,
          18,
          19,
          20,
          21,
          22,
          23,
          24,
          25,
          26,
          27,
          28,
          29,
          30,
          31,
          32,
          33,
          34,
          35,
          36,
          37,
          38,
          39,
          40,
          41,
          42,
          43,
          44,
          45,
          46,
          47,
          48,
          49
         ],
         "y": [
          0.3542978877198849,
          0.3542978877198849,
          0.5528190123564095,
          0.5528190123564095,
          0.5528190123564095,
          0.6810461692117462,
          0.6810461692117462,
          0.6810461692117462,
          0.6810461692117462,
          0.6810461692117462,
          0.6810461692117462,
          0.6810461692117462,
          0.6810461692117462,
          0.6810461692117462,
          0.6810461692117462,
          0.6810461692117462,
          0.6810461692117462,
          0.6810461692117462,
          0.6810461692117462,
          0.6810461692117462,
          0.6810461692117462,
          0.6810461692117462,
          0.6810461692117462,
          0.6810461692117462,
          0.6810461692117462,
          0.6867350732769777,
          0.6867350732769777,
          0.6867350732769777,
          0.6867350732769777,
          0.6867350732769777,
          0.6867350732769777,
          0.6867350732769777,
          0.6867350732769777,
          0.6867350732769777,
          0.6867350732769777,
          0.6867350732769777,
          0.6867350732769777,
          0.6867350732769777,
          0.6867350732769777,
          0.6867350732769777,
          0.6867350732769777,
          0.6867350732769777,
          0.6867350732769777,
          0.6867350732769777,
          0.6867350732769777,
          0.6867350732769777,
          0.6867350732769777,
          0.6867350732769777,
          0.6867350732769777,
          0.6867350732769777
         ]
        },
        {
         "marker": {
          "color": "#cccccc"
         },
         "mode": "markers",
         "name": "Infeasible Trial",
         "showlegend": false,
         "type": "scatter",
         "x": [],
         "y": []
        }
       ],
       "layout": {
        "template": {
         "data": {
          "bar": [
           {
            "error_x": {
             "color": "#2a3f5f"
            },
            "error_y": {
             "color": "#2a3f5f"
            },
            "marker": {
             "line": {
              "color": "#E5ECF6",
              "width": 0.5
             },
             "pattern": {
              "fillmode": "overlay",
              "size": 10,
              "solidity": 0.2
             }
            },
            "type": "bar"
           }
          ],
          "barpolar": [
           {
            "marker": {
             "line": {
              "color": "#E5ECF6",
              "width": 0.5
             },
             "pattern": {
              "fillmode": "overlay",
              "size": 10,
              "solidity": 0.2
             }
            },
            "type": "barpolar"
           }
          ],
          "carpet": [
           {
            "aaxis": {
             "endlinecolor": "#2a3f5f",
             "gridcolor": "white",
             "linecolor": "white",
             "minorgridcolor": "white",
             "startlinecolor": "#2a3f5f"
            },
            "baxis": {
             "endlinecolor": "#2a3f5f",
             "gridcolor": "white",
             "linecolor": "white",
             "minorgridcolor": "white",
             "startlinecolor": "#2a3f5f"
            },
            "type": "carpet"
           }
          ],
          "choropleth": [
           {
            "colorbar": {
             "outlinewidth": 0,
             "ticks": ""
            },
            "type": "choropleth"
           }
          ],
          "contour": [
           {
            "colorbar": {
             "outlinewidth": 0,
             "ticks": ""
            },
            "colorscale": [
             [
              0,
              "#0d0887"
             ],
             [
              0.1111111111111111,
              "#46039f"
             ],
             [
              0.2222222222222222,
              "#7201a8"
             ],
             [
              0.3333333333333333,
              "#9c179e"
             ],
             [
              0.4444444444444444,
              "#bd3786"
             ],
             [
              0.5555555555555556,
              "#d8576b"
             ],
             [
              0.6666666666666666,
              "#ed7953"
             ],
             [
              0.7777777777777778,
              "#fb9f3a"
             ],
             [
              0.8888888888888888,
              "#fdca26"
             ],
             [
              1,
              "#f0f921"
             ]
            ],
            "type": "contour"
           }
          ],
          "contourcarpet": [
           {
            "colorbar": {
             "outlinewidth": 0,
             "ticks": ""
            },
            "type": "contourcarpet"
           }
          ],
          "heatmap": [
           {
            "colorbar": {
             "outlinewidth": 0,
             "ticks": ""
            },
            "colorscale": [
             [
              0,
              "#0d0887"
             ],
             [
              0.1111111111111111,
              "#46039f"
             ],
             [
              0.2222222222222222,
              "#7201a8"
             ],
             [
              0.3333333333333333,
              "#9c179e"
             ],
             [
              0.4444444444444444,
              "#bd3786"
             ],
             [
              0.5555555555555556,
              "#d8576b"
             ],
             [
              0.6666666666666666,
              "#ed7953"
             ],
             [
              0.7777777777777778,
              "#fb9f3a"
             ],
             [
              0.8888888888888888,
              "#fdca26"
             ],
             [
              1,
              "#f0f921"
             ]
            ],
            "type": "heatmap"
           }
          ],
          "heatmapgl": [
           {
            "colorbar": {
             "outlinewidth": 0,
             "ticks": ""
            },
            "colorscale": [
             [
              0,
              "#0d0887"
             ],
             [
              0.1111111111111111,
              "#46039f"
             ],
             [
              0.2222222222222222,
              "#7201a8"
             ],
             [
              0.3333333333333333,
              "#9c179e"
             ],
             [
              0.4444444444444444,
              "#bd3786"
             ],
             [
              0.5555555555555556,
              "#d8576b"
             ],
             [
              0.6666666666666666,
              "#ed7953"
             ],
             [
              0.7777777777777778,
              "#fb9f3a"
             ],
             [
              0.8888888888888888,
              "#fdca26"
             ],
             [
              1,
              "#f0f921"
             ]
            ],
            "type": "heatmapgl"
           }
          ],
          "histogram": [
           {
            "marker": {
             "pattern": {
              "fillmode": "overlay",
              "size": 10,
              "solidity": 0.2
             }
            },
            "type": "histogram"
           }
          ],
          "histogram2d": [
           {
            "colorbar": {
             "outlinewidth": 0,
             "ticks": ""
            },
            "colorscale": [
             [
              0,
              "#0d0887"
             ],
             [
              0.1111111111111111,
              "#46039f"
             ],
             [
              0.2222222222222222,
              "#7201a8"
             ],
             [
              0.3333333333333333,
              "#9c179e"
             ],
             [
              0.4444444444444444,
              "#bd3786"
             ],
             [
              0.5555555555555556,
              "#d8576b"
             ],
             [
              0.6666666666666666,
              "#ed7953"
             ],
             [
              0.7777777777777778,
              "#fb9f3a"
             ],
             [
              0.8888888888888888,
              "#fdca26"
             ],
             [
              1,
              "#f0f921"
             ]
            ],
            "type": "histogram2d"
           }
          ],
          "histogram2dcontour": [
           {
            "colorbar": {
             "outlinewidth": 0,
             "ticks": ""
            },
            "colorscale": [
             [
              0,
              "#0d0887"
             ],
             [
              0.1111111111111111,
              "#46039f"
             ],
             [
              0.2222222222222222,
              "#7201a8"
             ],
             [
              0.3333333333333333,
              "#9c179e"
             ],
             [
              0.4444444444444444,
              "#bd3786"
             ],
             [
              0.5555555555555556,
              "#d8576b"
             ],
             [
              0.6666666666666666,
              "#ed7953"
             ],
             [
              0.7777777777777778,
              "#fb9f3a"
             ],
             [
              0.8888888888888888,
              "#fdca26"
             ],
             [
              1,
              "#f0f921"
             ]
            ],
            "type": "histogram2dcontour"
           }
          ],
          "mesh3d": [
           {
            "colorbar": {
             "outlinewidth": 0,
             "ticks": ""
            },
            "type": "mesh3d"
           }
          ],
          "parcoords": [
           {
            "line": {
             "colorbar": {
              "outlinewidth": 0,
              "ticks": ""
             }
            },
            "type": "parcoords"
           }
          ],
          "pie": [
           {
            "automargin": true,
            "type": "pie"
           }
          ],
          "scatter": [
           {
            "fillpattern": {
             "fillmode": "overlay",
             "size": 10,
             "solidity": 0.2
            },
            "type": "scatter"
           }
          ],
          "scatter3d": [
           {
            "line": {
             "colorbar": {
              "outlinewidth": 0,
              "ticks": ""
             }
            },
            "marker": {
             "colorbar": {
              "outlinewidth": 0,
              "ticks": ""
             }
            },
            "type": "scatter3d"
           }
          ],
          "scattercarpet": [
           {
            "marker": {
             "colorbar": {
              "outlinewidth": 0,
              "ticks": ""
             }
            },
            "type": "scattercarpet"
           }
          ],
          "scattergeo": [
           {
            "marker": {
             "colorbar": {
              "outlinewidth": 0,
              "ticks": ""
             }
            },
            "type": "scattergeo"
           }
          ],
          "scattergl": [
           {
            "marker": {
             "colorbar": {
              "outlinewidth": 0,
              "ticks": ""
             }
            },
            "type": "scattergl"
           }
          ],
          "scattermapbox": [
           {
            "marker": {
             "colorbar": {
              "outlinewidth": 0,
              "ticks": ""
             }
            },
            "type": "scattermapbox"
           }
          ],
          "scatterpolar": [
           {
            "marker": {
             "colorbar": {
              "outlinewidth": 0,
              "ticks": ""
             }
            },
            "type": "scatterpolar"
           }
          ],
          "scatterpolargl": [
           {
            "marker": {
             "colorbar": {
              "outlinewidth": 0,
              "ticks": ""
             }
            },
            "type": "scatterpolargl"
           }
          ],
          "scatterternary": [
           {
            "marker": {
             "colorbar": {
              "outlinewidth": 0,
              "ticks": ""
             }
            },
            "type": "scatterternary"
           }
          ],
          "surface": [
           {
            "colorbar": {
             "outlinewidth": 0,
             "ticks": ""
            },
            "colorscale": [
             [
              0,
              "#0d0887"
             ],
             [
              0.1111111111111111,
              "#46039f"
             ],
             [
              0.2222222222222222,
              "#7201a8"
             ],
             [
              0.3333333333333333,
              "#9c179e"
             ],
             [
              0.4444444444444444,
              "#bd3786"
             ],
             [
              0.5555555555555556,
              "#d8576b"
             ],
             [
              0.6666666666666666,
              "#ed7953"
             ],
             [
              0.7777777777777778,
              "#fb9f3a"
             ],
             [
              0.8888888888888888,
              "#fdca26"
             ],
             [
              1,
              "#f0f921"
             ]
            ],
            "type": "surface"
           }
          ],
          "table": [
           {
            "cells": {
             "fill": {
              "color": "#EBF0F8"
             },
             "line": {
              "color": "white"
             }
            },
            "header": {
             "fill": {
              "color": "#C8D4E3"
             },
             "line": {
              "color": "white"
             }
            },
            "type": "table"
           }
          ]
         },
         "layout": {
          "annotationdefaults": {
           "arrowcolor": "#2a3f5f",
           "arrowhead": 0,
           "arrowwidth": 1
          },
          "autotypenumbers": "strict",
          "coloraxis": {
           "colorbar": {
            "outlinewidth": 0,
            "ticks": ""
           }
          },
          "colorscale": {
           "diverging": [
            [
             0,
             "#8e0152"
            ],
            [
             0.1,
             "#c51b7d"
            ],
            [
             0.2,
             "#de77ae"
            ],
            [
             0.3,
             "#f1b6da"
            ],
            [
             0.4,
             "#fde0ef"
            ],
            [
             0.5,
             "#f7f7f7"
            ],
            [
             0.6,
             "#e6f5d0"
            ],
            [
             0.7,
             "#b8e186"
            ],
            [
             0.8,
             "#7fbc41"
            ],
            [
             0.9,
             "#4d9221"
            ],
            [
             1,
             "#276419"
            ]
           ],
           "sequential": [
            [
             0,
             "#0d0887"
            ],
            [
             0.1111111111111111,
             "#46039f"
            ],
            [
             0.2222222222222222,
             "#7201a8"
            ],
            [
             0.3333333333333333,
             "#9c179e"
            ],
            [
             0.4444444444444444,
             "#bd3786"
            ],
            [
             0.5555555555555556,
             "#d8576b"
            ],
            [
             0.6666666666666666,
             "#ed7953"
            ],
            [
             0.7777777777777778,
             "#fb9f3a"
            ],
            [
             0.8888888888888888,
             "#fdca26"
            ],
            [
             1,
             "#f0f921"
            ]
           ],
           "sequentialminus": [
            [
             0,
             "#0d0887"
            ],
            [
             0.1111111111111111,
             "#46039f"
            ],
            [
             0.2222222222222222,
             "#7201a8"
            ],
            [
             0.3333333333333333,
             "#9c179e"
            ],
            [
             0.4444444444444444,
             "#bd3786"
            ],
            [
             0.5555555555555556,
             "#d8576b"
            ],
            [
             0.6666666666666666,
             "#ed7953"
            ],
            [
             0.7777777777777778,
             "#fb9f3a"
            ],
            [
             0.8888888888888888,
             "#fdca26"
            ],
            [
             1,
             "#f0f921"
            ]
           ]
          },
          "colorway": [
           "#636efa",
           "#EF553B",
           "#00cc96",
           "#ab63fa",
           "#FFA15A",
           "#19d3f3",
           "#FF6692",
           "#B6E880",
           "#FF97FF",
           "#FECB52"
          ],
          "font": {
           "color": "#2a3f5f"
          },
          "geo": {
           "bgcolor": "white",
           "lakecolor": "white",
           "landcolor": "#E5ECF6",
           "showlakes": true,
           "showland": true,
           "subunitcolor": "white"
          },
          "hoverlabel": {
           "align": "left"
          },
          "hovermode": "closest",
          "mapbox": {
           "style": "light"
          },
          "paper_bgcolor": "white",
          "plot_bgcolor": "#E5ECF6",
          "polar": {
           "angularaxis": {
            "gridcolor": "white",
            "linecolor": "white",
            "ticks": ""
           },
           "bgcolor": "#E5ECF6",
           "radialaxis": {
            "gridcolor": "white",
            "linecolor": "white",
            "ticks": ""
           }
          },
          "scene": {
           "xaxis": {
            "backgroundcolor": "#E5ECF6",
            "gridcolor": "white",
            "gridwidth": 2,
            "linecolor": "white",
            "showbackground": true,
            "ticks": "",
            "zerolinecolor": "white"
           },
           "yaxis": {
            "backgroundcolor": "#E5ECF6",
            "gridcolor": "white",
            "gridwidth": 2,
            "linecolor": "white",
            "showbackground": true,
            "ticks": "",
            "zerolinecolor": "white"
           },
           "zaxis": {
            "backgroundcolor": "#E5ECF6",
            "gridcolor": "white",
            "gridwidth": 2,
            "linecolor": "white",
            "showbackground": true,
            "ticks": "",
            "zerolinecolor": "white"
           }
          },
          "shapedefaults": {
           "line": {
            "color": "#2a3f5f"
           }
          },
          "ternary": {
           "aaxis": {
            "gridcolor": "white",
            "linecolor": "white",
            "ticks": ""
           },
           "baxis": {
            "gridcolor": "white",
            "linecolor": "white",
            "ticks": ""
           },
           "bgcolor": "#E5ECF6",
           "caxis": {
            "gridcolor": "white",
            "linecolor": "white",
            "ticks": ""
           }
          },
          "title": {
           "x": 0.05
          },
          "xaxis": {
           "automargin": true,
           "gridcolor": "white",
           "linecolor": "white",
           "ticks": "",
           "title": {
            "standoff": 15
           },
           "zerolinecolor": "white",
           "zerolinewidth": 2
          },
          "yaxis": {
           "automargin": true,
           "gridcolor": "white",
           "linecolor": "white",
           "ticks": "",
           "title": {
            "standoff": 15
           },
           "zerolinecolor": "white",
           "zerolinewidth": 2
          }
         }
        },
        "title": {
         "text": "Optimization History Plot"
        },
        "xaxis": {
         "title": {
          "text": "Trial"
         }
        },
        "yaxis": {
         "title": {
          "text": "Objective Value"
         }
        }
       }
      }
     },
     "metadata": {},
     "output_type": "display_data"
    }
   ],
   "source": [
    "optuna.visualization.plot_optimization_history(study_classification).show()\n",
    "optuna.visualization.plot_optimization_history(study_clustering).show()"
   ]
  }
 ],
 "metadata": {
  "kernelspec": {
   "display_name": "Python 3",
   "language": "python",
   "name": "python3"
  },
  "language_info": {
   "codemirror_mode": {
    "name": "ipython",
    "version": 3
   },
   "file_extension": ".py",
   "mimetype": "text/x-python",
   "name": "python",
   "nbconvert_exporter": "python",
   "pygments_lexer": "ipython3",
   "version": "3.8.10"
  }
 },
 "nbformat": 4,
 "nbformat_minor": 2
}
